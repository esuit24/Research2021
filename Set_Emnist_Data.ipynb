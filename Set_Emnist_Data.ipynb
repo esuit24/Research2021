{
 "cells": [
  {
   "cell_type": "code",
   "execution_count": 1,
   "id": "afd25adf",
   "metadata": {},
   "outputs": [],
   "source": [
    "import pandas as pd\n",
    "import numpy as np"
   ]
  },
  {
   "cell_type": "code",
   "execution_count": 2,
   "id": "45c34708",
   "metadata": {},
   "outputs": [],
   "source": [
    "df = pd.read_csv(r'/Users/elliesuit/emnist/Emnist Data/Theta1.csv', header = None)\n",
    "df2 = pd.read_csv(r'/Users/elliesuit/emnist/Emnist Data/Theta2.csv', header = None)\n",
    "df3 = pd.read_csv(r'/Users/elliesuit/emnist/Emnist Data/X.csv', header = None)\n",
    "df4 = pd.read_csv(r'/Users/elliesuit/emnist/Emnist Data/Y.csv', header = None)\n",
    "input_layer_size = len(df.columns)-1\n",
    "hidden_layer_size = len(df2.columns)-1\n",
    "num_labels = len(df2)\n",
    "\n",
    "theta1 = np.zeros([hidden_layer_size,input_layer_size+1])\n",
    "theta2 = np.zeros([num_labels,hidden_layer_size+1])\n",
    "x = np.zeros((len(df3),input_layer_size))\n",
    "y_vec = np.zeros((len(df4),))\n",
    "\n",
    "index = 0 \n",
    "while (index < hidden_layer_size):\n",
    "    theta1[index] = df.iloc[index]\n",
    "    index+=1\n",
    "\n",
    "index = 0\n",
    "while(index<num_labels):\n",
    "    theta2[index] = df2.iloc[index]\n",
    "    index+=1\n",
    "\n",
    "index = 0\n",
    "while(index<len(x)):\n",
    "    x[index] = df3.iloc[index]\n",
    "    index+=1\n",
    "ones = np.ones((len(df3),1))\n",
    "x = np.hstack((ones, x)) \n",
    "\n",
    "index = 0\n",
    "while (index<len(y_vec)):\n",
    "    y_vec[index] = df4.iloc[index]\n",
    "    index+=1\n",
    "\n",
    "m = len(x)\n",
    "# set y to be a 2-D matrix with each column being a different sample and each row corresponding to a value 0-9\n",
    "y = np.zeros((m,num_labels))\n",
    "# for every label, convert it into vector of 0s and a 1 in the appropriate position\n",
    "for i in range(m): #each row is new training sample\n",
    "    index = int(y_vec[i]-1)\n",
    "    y[i][index] = 1"
   ]
  }
 ],
 "metadata": {
  "kernelspec": {
   "display_name": "Python 3",
   "language": "python",
   "name": "python3"
  },
  "language_info": {
   "codemirror_mode": {
    "name": "ipython",
    "version": 3
   },
   "file_extension": ".py",
   "mimetype": "text/x-python",
   "name": "python",
   "nbconvert_exporter": "python",
   "pygments_lexer": "ipython3",
   "version": "3.8.8"
  }
 },
 "nbformat": 4,
 "nbformat_minor": 5
}
