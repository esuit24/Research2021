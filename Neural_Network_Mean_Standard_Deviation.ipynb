{
 "cells": [
  {
   "cell_type": "code",
   "execution_count": 1,
   "id": "198c185f",
   "metadata": {
    "scrolled": false
   },
   "outputs": [],
   "source": [
    "import tensorflow as tf\n",
    "import numpy as np\n",
    "import Set_Gaussian_Data as data\n",
    "import matplotlib.pyplot as plt\n",
    "#import os\n",
    "#os.environ['KMP_DUPLICATE_LIB_OK']='True'"
   ]
  },
  {
   "cell_type": "code",
   "execution_count": 2,
   "id": "f51ce54b",
   "metadata": {},
   "outputs": [],
   "source": [
    "#load input data for gaussian\n",
    "training = data.create_training_set(1000, 100) #outputs an array of x_vals, mean values, and sigma values respectively\n",
    "x_train = training[0] \n",
    "y_train = training[1]  \n",
    "z_train = training[2] \n",
    "y_train = np.vstack((y_train, z_train)) #compile training mean and standard deviation into single data structure\n",
    "y_train = y_train.T #first column as mean, second column as sd\n",
    "\n",
    "testing = data.create_training_set(300, 100)\n",
    "x_test = testing[0] \n",
    "y_test = testing[1] \n",
    "z_test = testing[2] \n",
    "y_test = np.vstack((y_test, z_test)) #compile test mean and standard deviation into single data structure \n",
    "y_test = y_test.T\n",
    "\n"
   ]
  },
  {
   "cell_type": "code",
   "execution_count": 36,
   "id": "d1c35373",
   "metadata": {},
   "outputs": [],
   "source": [
    "#set layers\n",
    "model = tf.keras.models.Sequential() #feed forward\n",
    "#input layer: 21 different x values to represent the gaussian function\n",
    "model.add(tf.keras.layers.Input(100,)) \n",
    "#hidden layers (2): \n",
    "model.add(tf.keras.layers.Dense(125, activation = tf.nn.relu))\n",
    "model.add(tf.keras.layers.Dense(125, activation = tf.nn.relu))\n",
    "model.add(tf.keras.layers.Dense(125, activation = tf.nn.relu))\n",
    "model.add(tf.keras.layers.Dense(125, activation = tf.nn.relu))\n",
    "model.add(tf.keras.layers.Dense(125, activation = tf.nn.relu))\n",
    "#output layer:\n",
    "model.add(tf.keras.layers.Dense(2,))\n"
   ]
  },
  {
   "cell_type": "code",
   "execution_count": 37,
   "id": "4a2eac88",
   "metadata": {},
   "outputs": [
    {
     "name": "stdout",
     "output_type": "stream",
     "text": [
      "Train on 1000 samples\n",
      "Epoch 1/90\n",
      "1000/1000 [==============================] - 1s 1ms/sample - loss: 0.0294 - accuracy: 0.7810\n",
      "Epoch 2/90\n",
      "1000/1000 [==============================] - 0s 131us/sample - loss: 0.0217 - accuracy: 0.9210\n",
      "Epoch 3/90\n",
      "1000/1000 [==============================] - 0s 134us/sample - loss: 0.0089 - accuracy: 0.8980\n",
      "Epoch 4/90\n",
      "1000/1000 [==============================] - 0s 130us/sample - loss: 0.0043 - accuracy: 0.9430\n",
      "Epoch 5/90\n",
      "1000/1000 [==============================] - 0s 133us/sample - loss: 0.0014 - accuracy: 0.9540\n",
      "Epoch 6/90\n",
      "1000/1000 [==============================] - 0s 130us/sample - loss: 0.0012 - accuracy: 0.9510\n",
      "Epoch 7/90\n",
      "1000/1000 [==============================] - 0s 130us/sample - loss: 0.0047 - accuracy: 0.9550\n",
      "Epoch 8/90\n",
      "1000/1000 [==============================] - 0s 128us/sample - loss: 0.0020 - accuracy: 0.9480\n",
      "Epoch 9/90\n",
      "1000/1000 [==============================] - 0s 131us/sample - loss: 0.0014 - accuracy: 0.9520\n",
      "Epoch 10/90\n",
      "1000/1000 [==============================] - 0s 131us/sample - loss: 0.0016 - accuracy: 0.9660\n",
      "Epoch 11/90\n",
      "1000/1000 [==============================] - 0s 132us/sample - loss: 0.0010 - accuracy: 0.9620\n",
      "Epoch 12/90\n",
      "1000/1000 [==============================] - 0s 131us/sample - loss: 7.0653e-04 - accuracy: 0.9640\n",
      "Epoch 13/90\n",
      "1000/1000 [==============================] - 0s 133us/sample - loss: 2.5234e-04 - accuracy: 0.9840\n",
      "Epoch 14/90\n",
      "1000/1000 [==============================] - 0s 133us/sample - loss: 1.0262e-04 - accuracy: 0.9840\n",
      "Epoch 15/90\n",
      "1000/1000 [==============================] - 0s 133us/sample - loss: 6.5941e-05 - accuracy: 0.9870\n",
      "Epoch 16/90\n",
      "1000/1000 [==============================] - 0s 134us/sample - loss: 4.6987e-05 - accuracy: 0.9920\n",
      "Epoch 17/90\n",
      "1000/1000 [==============================] - 0s 132us/sample - loss: 4.7856e-05 - accuracy: 0.9910\n",
      "Epoch 18/90\n",
      "1000/1000 [==============================] - 0s 134us/sample - loss: 3.5117e-05 - accuracy: 0.9880\n",
      "Epoch 19/90\n",
      "1000/1000 [==============================] - 0s 137us/sample - loss: 2.8580e-05 - accuracy: 0.9930\n",
      "Epoch 20/90\n",
      "1000/1000 [==============================] - 0s 137us/sample - loss: 2.7104e-05 - accuracy: 0.9930\n",
      "Epoch 21/90\n",
      "1000/1000 [==============================] - 0s 132us/sample - loss: 2.8799e-05 - accuracy: 0.9980\n",
      "Epoch 22/90\n",
      "1000/1000 [==============================] - 0s 134us/sample - loss: 3.8031e-05 - accuracy: 0.9930\n",
      "Epoch 23/90\n",
      "1000/1000 [==============================] - 0s 145us/sample - loss: 6.3223e-05 - accuracy: 0.9930\n",
      "Epoch 24/90\n",
      "1000/1000 [==============================] - 0s 146us/sample - loss: 7.8650e-05 - accuracy: 0.9890\n",
      "Epoch 25/90\n",
      "1000/1000 [==============================] - 0s 137us/sample - loss: 8.1988e-05 - accuracy: 0.9900\n",
      "Epoch 26/90\n",
      "1000/1000 [==============================] - 0s 136us/sample - loss: 5.0058e-05 - accuracy: 0.9940\n",
      "Epoch 27/90\n",
      "1000/1000 [==============================] - 0s 136us/sample - loss: 7.1909e-05 - accuracy: 0.9910\n",
      "Epoch 28/90\n",
      "1000/1000 [==============================] - 0s 135us/sample - loss: 6.0927e-04 - accuracy: 0.9700\n",
      "Epoch 29/90\n",
      "1000/1000 [==============================] - 0s 134us/sample - loss: 5.1664e-04 - accuracy: 0.9800\n",
      "Epoch 30/90\n",
      "1000/1000 [==============================] - 0s 136us/sample - loss: 3.6629e-04 - accuracy: 0.9780\n",
      "Epoch 31/90\n",
      "1000/1000 [==============================] - 0s 144us/sample - loss: 5.3011e-04 - accuracy: 0.9880\n",
      "Epoch 32/90\n",
      "1000/1000 [==============================] - 0s 141us/sample - loss: 5.4585e-04 - accuracy: 0.9660\n",
      "Epoch 33/90\n",
      "1000/1000 [==============================] - 0s 132us/sample - loss: 2.7458e-04 - accuracy: 0.9870\n",
      "Epoch 34/90\n",
      "1000/1000 [==============================] - 0s 132us/sample - loss: 4.0936e-04 - accuracy: 0.9800\n",
      "Epoch 35/90\n",
      "1000/1000 [==============================] - 0s 138us/sample - loss: 5.3338e-04 - accuracy: 0.9620\n",
      "Epoch 36/90\n",
      "1000/1000 [==============================] - 0s 134us/sample - loss: 3.4464e-04 - accuracy: 0.9770\n",
      "Epoch 37/90\n",
      "1000/1000 [==============================] - 0s 137us/sample - loss: 3.9998e-04 - accuracy: 0.9640\n",
      "Epoch 38/90\n",
      "1000/1000 [==============================] - 0s 148us/sample - loss: 3.9249e-04 - accuracy: 0.9640\n",
      "Epoch 39/90\n",
      "1000/1000 [==============================] - 0s 145us/sample - loss: 6.7294e-04 - accuracy: 0.9490\n",
      "Epoch 40/90\n",
      "1000/1000 [==============================] - 0s 141us/sample - loss: 0.0012 - accuracy: 0.9610\n",
      "Epoch 41/90\n",
      "1000/1000 [==============================] - 0s 132us/sample - loss: 5.5253e-04 - accuracy: 0.9650\n",
      "Epoch 42/90\n",
      "1000/1000 [==============================] - 0s 137us/sample - loss: 9.7031e-04 - accuracy: 0.9730\n",
      "Epoch 43/90\n",
      "1000/1000 [==============================] - 0s 141us/sample - loss: 0.0023 - accuracy: 0.9560\n",
      "Epoch 44/90\n",
      "1000/1000 [==============================] - 0s 134us/sample - loss: 7.5975e-04 - accuracy: 0.9620\n",
      "Epoch 45/90\n",
      "1000/1000 [==============================] - 0s 145us/sample - loss: 0.0043 - accuracy: 0.9690\n",
      "Epoch 46/90\n",
      "1000/1000 [==============================] - 0s 138us/sample - loss: 0.0030 - accuracy: 0.9570\n",
      "Epoch 47/90\n",
      "1000/1000 [==============================] - 0s 138us/sample - loss: 8.7430e-04 - accuracy: 0.9620\n",
      "Epoch 48/90\n",
      "1000/1000 [==============================] - 0s 151us/sample - loss: 0.0019 - accuracy: 0.9530\n",
      "Epoch 49/90\n",
      "1000/1000 [==============================] - 0s 158us/sample - loss: 4.3944e-04 - accuracy: 0.9670\n",
      "Epoch 50/90\n",
      "1000/1000 [==============================] - 0s 138us/sample - loss: 3.4400e-04 - accuracy: 0.9800\n",
      "Epoch 51/90\n",
      "1000/1000 [==============================] - 0s 145us/sample - loss: 2.8940e-04 - accuracy: 0.9820\n",
      "Epoch 52/90\n",
      "1000/1000 [==============================] - 0s 135us/sample - loss: 9.4089e-05 - accuracy: 0.9820\n",
      "Epoch 53/90\n",
      "1000/1000 [==============================] - 0s 139us/sample - loss: 4.0549e-05 - accuracy: 0.9900\n",
      "Epoch 54/90\n",
      "1000/1000 [==============================] - 0s 138us/sample - loss: 2.4287e-05 - accuracy: 0.9930\n",
      "Epoch 55/90\n",
      "1000/1000 [==============================] - 0s 138us/sample - loss: 2.0612e-05 - accuracy: 0.9930\n",
      "Epoch 56/90\n",
      "1000/1000 [==============================] - 0s 141us/sample - loss: 1.7824e-05 - accuracy: 0.9950\n",
      "Epoch 57/90\n",
      "1000/1000 [==============================] - 0s 136us/sample - loss: 1.5408e-05 - accuracy: 0.9950\n",
      "Epoch 58/90\n",
      "1000/1000 [==============================] - 0s 141us/sample - loss: 1.4816e-05 - accuracy: 0.9940\n",
      "Epoch 59/90\n",
      "1000/1000 [==============================] - 0s 146us/sample - loss: 1.4266e-05 - accuracy: 0.9960\n",
      "Epoch 60/90\n",
      "1000/1000 [==============================] - 0s 145us/sample - loss: 1.3179e-05 - accuracy: 0.9970\n",
      "Epoch 61/90\n",
      "1000/1000 [==============================] - 0s 144us/sample - loss: 1.2875e-05 - accuracy: 0.9950\n",
      "Epoch 62/90\n",
      "1000/1000 [==============================] - 0s 140us/sample - loss: 1.2104e-05 - accuracy: 0.9960\n",
      "Epoch 63/90\n",
      "1000/1000 [==============================] - 0s 134us/sample - loss: 1.2116e-05 - accuracy: 0.9930\n",
      "Epoch 64/90\n",
      "1000/1000 [==============================] - 0s 134us/sample - loss: 1.1596e-05 - accuracy: 0.9960\n",
      "Epoch 65/90\n",
      "1000/1000 [==============================] - 0s 137us/sample - loss: 1.1393e-05 - accuracy: 0.9960\n",
      "Epoch 66/90\n",
      "1000/1000 [==============================] - 0s 138us/sample - loss: 1.1162e-05 - accuracy: 0.9980\n",
      "Epoch 67/90\n",
      "1000/1000 [==============================] - 0s 138us/sample - loss: 1.0491e-05 - accuracy: 0.9960\n",
      "Epoch 68/90\n",
      "1000/1000 [==============================] - 0s 135us/sample - loss: 1.0169e-05 - accuracy: 0.9950\n",
      "Epoch 69/90\n",
      "1000/1000 [==============================] - 0s 132us/sample - loss: 1.0000e-05 - accuracy: 0.9970\n",
      "Epoch 70/90\n",
      "1000/1000 [==============================] - 0s 148us/sample - loss: 9.9605e-06 - accuracy: 0.9980\n",
      "Epoch 71/90\n",
      "1000/1000 [==============================] - 0s 145us/sample - loss: 1.0145e-05 - accuracy: 0.9970\n",
      "Epoch 72/90\n",
      "1000/1000 [==============================] - 0s 140us/sample - loss: 1.0523e-05 - accuracy: 0.9970\n",
      "Epoch 73/90\n",
      "1000/1000 [==============================] - 0s 137us/sample - loss: 1.0890e-05 - accuracy: 0.9980\n",
      "Epoch 74/90\n",
      "1000/1000 [==============================] - 0s 145us/sample - loss: 1.1369e-05 - accuracy: 0.9980\n",
      "Epoch 75/90\n"
     ]
    },
    {
     "name": "stdout",
     "output_type": "stream",
     "text": [
      "1000/1000 [==============================] - 0s 262us/sample - loss: 1.1191e-05 - accuracy: 0.9960\n",
      "Epoch 76/90\n",
      "1000/1000 [==============================] - 0s 147us/sample - loss: 1.1998e-05 - accuracy: 0.9960\n",
      "Epoch 77/90\n",
      "1000/1000 [==============================] - 0s 143us/sample - loss: 1.2957e-05 - accuracy: 0.9970\n",
      "Epoch 78/90\n",
      "1000/1000 [==============================] - 0s 143us/sample - loss: 1.1197e-05 - accuracy: 0.9970\n",
      "Epoch 79/90\n",
      "1000/1000 [==============================] - 0s 144us/sample - loss: 1.0709e-05 - accuracy: 0.9970\n",
      "Epoch 80/90\n",
      "1000/1000 [==============================] - 0s 145us/sample - loss: 1.0567e-05 - accuracy: 0.9970\n",
      "Epoch 81/90\n",
      "1000/1000 [==============================] - 0s 160us/sample - loss: 1.0191e-05 - accuracy: 0.9980\n",
      "Epoch 82/90\n",
      "1000/1000 [==============================] - 0s 146us/sample - loss: 9.7258e-06 - accuracy: 0.9970\n",
      "Epoch 83/90\n",
      "1000/1000 [==============================] - 0s 142us/sample - loss: 1.1843e-05 - accuracy: 0.9980\n",
      "Epoch 84/90\n",
      "1000/1000 [==============================] - 0s 143us/sample - loss: 1.2819e-05 - accuracy: 0.9980\n",
      "Epoch 85/90\n",
      "1000/1000 [==============================] - 0s 143us/sample - loss: 1.2907e-05 - accuracy: 0.9950\n",
      "Epoch 86/90\n",
      "1000/1000 [==============================] - 0s 141us/sample - loss: 1.3498e-05 - accuracy: 0.9970\n",
      "Epoch 87/90\n",
      "1000/1000 [==============================] - 0s 145us/sample - loss: 1.7069e-05 - accuracy: 0.9960\n",
      "Epoch 88/90\n",
      "1000/1000 [==============================] - 0s 137us/sample - loss: 2.3349e-05 - accuracy: 0.9970\n",
      "Epoch 89/90\n",
      "1000/1000 [==============================] - 0s 137us/sample - loss: 2.0999e-05 - accuracy: 0.9940\n",
      "Epoch 90/90\n",
      "1000/1000 [==============================] - 0s 138us/sample - loss: 1.5782e-05 - accuracy: 0.9950\n"
     ]
    },
    {
     "data": {
      "text/plain": [
       "<tensorflow.python.keras.callbacks.History at 0x7fedbbbbb990>"
      ]
     },
     "execution_count": 37,
     "metadata": {},
     "output_type": "execute_result"
    }
   ],
   "source": [
    "#optimize\n",
    "model.compile(optimizer = 'adam', \n",
    "              loss = 'mean_squared_error',\n",
    "              metrics = ['accuracy'])\n",
    "model.fit(x_train, y_train, epochs = 90) #90 epochs minimizes the difference between test and training and testing cost\n"
   ]
  },
  {
   "cell_type": "code",
   "execution_count": 38,
   "id": "de2d7b97",
   "metadata": {
    "scrolled": true
   },
   "outputs": [
    {
     "name": "stdout",
     "output_type": "stream",
     "text": [
      "\r",
      "300/1 [========================================================================================================================================================================================================================================================================================================================================================================================================================================================================================================================================================================================================================================================================================================================================================================================================================================================================================================================================================================================================================================================================================================================================================================================================================================================================================================================================================================================================================================================================================================================================================================================================================================================================================================================================================================================================================================================================================================================================================================================================================================================================================================================================================================================================================================================================================================================================================================================================================================================================================================================================================================================================================================================================================================================================================================================================================================================================================================================================================================================================================================================================================================================================================================================================================================================================================================================================================================================================================================================================================================================================================================================================================================================================================================================================================================================================================================================================================================================================================================================================================================================================================================================================================================================================================================================================================================================================================================================================================================================================================================================================================================================================================================================================================================================================================================================================================================================================================================================================================================================================================================================================================================================================================================================================================================================================================================================================================================================================================================================================================================================================================================================================================================================================================================================================================================================================================================================================================================================================================================================================================================================================================================================================================================================================================================================================================================================================================================================================================================================================================================================================================================================================================================================================================================================================================================================================================================================================================================================================================================================================================================================================================================================================================================================================================================================================================================================================================================================================================================================================================================================================================================================================================================================================================================================================================================================================================================================================================================================================================================================================================================================================================================================================================================================================================================================================================================================================================================================================================================================================================================================================================================================================================================================================================================================================================================================================================================================================================================================================================================================================================================================================================================================================================================================================================================================================================================================================================================] - 0s 1ms/sample - loss: 3.2866e-04 - accuracy: 0.9833\n"
     ]
    },
    {
     "name": "stdout",
     "output_type": "stream",
     "text": [
      "0.00043452240720701714 0.98333335\n"
     ]
    }
   ],
   "source": [
    "#evaluate the test set and find test loss and accuracy\n",
    "results = model.evaluate(x = x_test, y = y_test)\n",
    "val_loss = results[0] #loss between model and actual\n",
    "val_acc = results[1] #accuracy of the model based on actual\n",
    "print(val_loss, val_acc)"
   ]
  },
  {
   "cell_type": "code",
   "execution_count": 39,
   "id": "d6b11648",
   "metadata": {
    "scrolled": true
   },
   "outputs": [
    {
     "name": "stdout",
     "output_type": "stream",
     "text": [
      "WARNING:tensorflow:From /Users/elliesuit/opt/anaconda3/envs/tensorflow/lib/python3.7/site-packages/tensorflow_core/python/ops/resource_variable_ops.py:1781: calling BaseResourceVariable.__init__ (from tensorflow.python.ops.resource_variable_ops) with constraint is deprecated and will be removed in a future version.\n",
      "Instructions for updating:\n",
      "If using Keras pass *_constraint arguments to layers.\n",
      "INFO:tensorflow:Assets written to: mean_and_sd.model/assets\n"
     ]
    }
   ],
   "source": [
    "#saves the model data\n",
    "model.save('mean_and_sd.model')\n",
    "new_model = tf.keras.models.load_model('mean_and_sd.model')\n"
   ]
  },
  {
   "cell_type": "code",
   "execution_count": 40,
   "id": "041e1c6a",
   "metadata": {},
   "outputs": [
    {
     "name": "stdout",
     "output_type": "stream",
     "text": [
      "X Input Values: [-3.15450484e-25 -6.87050751e-24 -1.37604819e-22 -2.53434461e-21\n",
      " -4.29224890e-20 -6.68484482e-19 -9.57381354e-18 -1.26085691e-16\n",
      " -1.52698174e-15 -1.70054875e-14 -1.74153229e-13 -1.64006545e-12\n",
      " -1.42029328e-11 -1.13105074e-10 -8.28272694e-10 -5.57765700e-09\n",
      " -3.45396129e-08 -1.96684589e-07 -1.02993638e-06 -4.95949745e-06\n",
      " -2.19610017e-05 -8.94239442e-05 -3.34844138e-04 -1.15297206e-03\n",
      " -3.65074978e-03 -1.06299826e-02 -2.84623167e-02 -7.00801688e-02\n",
      " -1.58674535e-01 -3.30374512e-01 -6.32547343e-01 -1.11369621e+00\n",
      " -1.80313253e+00 -2.68457634e+00 -3.67545466e+00 -4.62736317e+00\n",
      " -5.35726715e+00 -5.70348397e+00 -5.58372922e+00 -5.02684710e+00\n",
      " -4.16154127e+00 -3.16810770e+00 -2.21785359e+00 -1.42775277e+00\n",
      " -8.45201679e-01 -4.60102819e-01 -2.30322646e-01 -1.06024343e-01\n",
      " -4.48809190e-02 -1.74704904e-02 -6.25367998e-03 -2.05851205e-03\n",
      " -6.23100897e-04 -1.73440510e-04 -4.43945758e-05 -1.04495234e-05\n",
      " -2.26177946e-06 -4.50185220e-07 -8.23985202e-08 -1.38686694e-08\n",
      " -2.14653206e-09 -3.05511222e-10 -3.99856498e-11 -4.81247351e-12\n",
      " -5.32622794e-13 -5.42073713e-14 -5.07322530e-15 -4.36613494e-16\n",
      " -3.45539230e-17 -2.51469183e-18 -1.68290416e-19 -1.03566953e-20\n",
      " -5.86097972e-22 -3.05004636e-23 -1.45958659e-24 -6.42303800e-26\n",
      " -2.59919176e-27 -9.67215736e-29 -3.30975303e-30 -1.04148981e-31\n",
      " -3.01371145e-33 -8.01928248e-35 -1.96226003e-36 -4.41534666e-38\n",
      " -9.13608769e-40 -1.73837278e-41 -3.04167474e-43 -4.89406611e-45\n",
      " -7.24125923e-47 -9.85247998e-49 -1.23271940e-50 -1.41830653e-52\n",
      " -1.50059390e-54 -1.45996839e-56 -1.30620377e-58 -1.07464647e-60\n",
      " -8.13031740e-63 -5.65635409e-65 -3.61870249e-67  0.00000000e+00]\n",
      "Actual Mean and SD Values: [-0.24753726 -0.06976859]\n",
      "Predicted Mean and SD Values: [-0.24492235 -0.07210155]\n"
     ]
    }
   ],
   "source": [
    "#makes predictions for all elements in x_test array  \n",
    "predictions = new_model.predict(x_test) #predicts all means and standard deviations of the x_test dataset\n",
    "print(\"X Input Values: \" + str(x_test[234]))\n",
    "print(\"Actual Mean and SD Values: \" +  str(y_test[234]))  \n",
    "print(\"Predicted Mean and SD Values: \" + str(predictions[234])) "
   ]
  },
  {
   "cell_type": "code",
   "execution_count": 41,
   "id": "746e3a2e",
   "metadata": {},
   "outputs": [
    {
     "data": {
      "image/png": "[encoded data removed]",
      "text/plain": [
       "<Figure size 432x288 with 1 Axes>"
      ]
     },
     "metadata": {
      "needs_background": "light"
     },
     "output_type": "display_data"
    }
   ],
   "source": [
    "predictions = predictions.T\n",
    "y_test = y_test.T\n",
    "plt.scatter(predictions[0],y_test[0]) #mean\n",
    "plt.title('Predicted Mean vs. Actual Mean')\n",
    "plt.xlabel('Actual Mean')\n",
    "plt.ylabel('Predicted Mean')\n",
    "plt.show() "
   ]
  },
  {
   "cell_type": "code",
   "execution_count": 42,
   "id": "7a2f3de0",
   "metadata": {},
   "outputs": [
    {
     "data": {
      "image/png": "[encoded data removed]",
      "text/plain": [
       "<Figure size 432x288 with 1 Axes>"
      ]
     },
     "metadata": {
      "needs_background": "light"
     },
     "output_type": "display_data"
    }
   ],
   "source": [
    "plt.scatter(predictions[1],y_test[1]) #SD\n",
    "plt.title('Predicted SD vs. Actual SD')\n",
    "plt.xlabel('Actual SD')\n",
    "plt.ylabel('Predicted SD')\n",
    "plt.show()"
   ]
  },
  {
   "cell_type": "code",
   "execution_count": 43,
   "id": "e11ef76d",
   "metadata": {
    "scrolled": true
   },
   "outputs": [
    {
     "data": {
      "image/png": "[encoded data removed]",
      "text/plain": [
       "<Figure size 432x288 with 1 Axes>"
      ]
     },
     "metadata": {
      "needs_background": "light"
     },
     "output_type": "display_data"
    },
    {
     "data": {
      "image/png": "[encoded data removed]",
      "text/plain": [
       "<Figure size 432x288 with 1 Axes>"
      ]
     },
     "metadata": {
      "needs_background": "light"
     },
     "output_type": "display_data"
    }
   ],
   "source": [
    "#percent error\n",
    "plt.scatter(range(len(x_test)), (predictions[0]-y_test[0])/(y_test[0]))\n",
    "plt.title('Mean Percent Error')\n",
    "plt.xlabel('Index')\n",
    "plt.ylabel('Percent Error')\n",
    "plt.show()\n",
    "plt.scatter(range(len(x_test)), (predictions[1]-y_test[1])/(y_test[1]))\n",
    "plt.title('SD Percent Error') \n",
    "plt.xlabel('Index')\n",
    "plt.ylabel('Percent Error') \n",
    "plt.show()"
   ]
  },
  {
   "cell_type": "code",
   "execution_count": 45,
   "id": "7e83b518",
   "metadata": {},
   "outputs": [
    {
     "data": {
      "image/png": "[encoded data removed]",
      "text/plain": [
       "<Figure size 432x288 with 1 Axes>"
      ]
     },
     "metadata": {
      "needs_background": "light"
     },
     "output_type": "display_data"
    },
    {
     "data": {
      "image/png": "[encoded data removed]",
      "text/plain": [
       "<Figure size 432x288 with 1 Axes>"
      ]
     },
     "metadata": {
      "needs_background": "light"
     },
     "output_type": "display_data"
    }
   ],
   "source": [
    "plt.hist((predictions[0]-y_test[0])/y_test[0])\n",
    "plt.yscale('log')\n",
    "plt.title('Distribution of Mean Errors')\n",
    "plt.ylabel('Number of Occurences')\n",
    "plt.xlabel('Percent Error')\n",
    "plt.show()\n",
    "plt.hist((predictions[1]-y_test[1])/y_test[1])\n",
    "plt.yscale('log') \n",
    "plt.title('Distribution of SD Errors')\n",
    "plt.ylabel('Number of Occurences') \n",
    "plt.xlabel('Percent Error') \n",
    "plt.show() "
   ]
  },
  {
   "cell_type": "code",
   "execution_count": null,
   "id": "782e4334",
   "metadata": {},
   "outputs": [],
   "source": []
  }
 ],
 "metadata": {
  "kernelspec": {
   "display_name": "Python 3",
   "language": "python",
   "name": "python3"
  },
  "language_info": {
   "codemirror_mode": {
    "name": "ipython",
    "version": 3
   },
   "file_extension": ".py",
   "mimetype": "text/x-python",
   "name": "python",
   "nbconvert_exporter": "python",
   "pygments_lexer": "ipython3",
   "version": "3.7.10"
  }
 },
 "nbformat": 4,
 "nbformat_minor": 5
}
