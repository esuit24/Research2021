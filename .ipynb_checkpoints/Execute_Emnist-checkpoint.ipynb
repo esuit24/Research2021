{
 "cells": [
  {
   "cell_type": "code",
   "execution_count": 1,
   "id": "ad751df0",
   "metadata": {},
   "outputs": [],
   "source": [
    "import numpy as np\n",
    "from scipy import optimize as sp\n",
    "import Neural_Network as n\n",
    "import Set_Emnist_Data as data"
   ]
  },
  {
   "cell_type": "code",
   "execution_count": 2,
   "id": "fe58b90c",
   "metadata": {},
   "outputs": [
    {
     "data": {
      "text/plain": [
       "(0.3783864266414258,\n",
       " array([ 6.18712551e-05, -2.12000000e-12,  4.38000000e-13, ...,\n",
       "         4.70513118e-05, -5.01718611e-04,  5.07825788e-04]))"
      ]
     },
     "execution_count": 2,
     "metadata": {},
     "output_type": "execute_result"
    }
   ],
   "source": [
    "\n",
    "theta1 = data.theta1\n",
    "theta2 = data.theta2\n",
    "nn_params = [theta1, theta2] \n",
    "flattened_params = np.hstack((theta1.flatten(),theta2.flatten()))\n",
    "lambda_val = 1 \n",
    "input_layer_size = data.input_layer_size\n",
    "hidden_layer_size = data.hidden_layer_size\n",
    "num_labels = data.num_labels\n",
    "x = data.x\n",
    "y = data.y\n",
    "#calculate the gradients and cost\n",
    "n.nnCostFunction(flattened_params, data.input_layer_size, data.hidden_layer_size, data.num_labels, data.x, data.y, lambda_val)\n",
    "\n",
    "\n",
    "\n",
    "\n",
    "\n"
   ]
  },
  {
   "cell_type": "code",
   "execution_count": 3,
   "id": "69ab1521",
   "metadata": {},
   "outputs": [],
   "source": [
    "#flatten and merge theta1 and theta2 values into a single vector \n",
    "nn_params = flattened_params\n",
    "func_args = (input_layer_size, hidden_layer_size, num_labels, x, y, lambda_val)"
   ]
  },
  {
   "cell_type": "code",
   "execution_count": 4,
   "id": "3b757893",
   "metadata": {},
   "outputs": [
    {
     "name": "stdout",
     "output_type": "stream",
     "text": [
      "Warning: Maximum number of iterations has been exceeded.\n",
      "         Current function value: 0.340892\n",
      "         Iterations: 5\n",
      "         Function evaluations: 14\n",
      "         Gradient evaluations: 14\n"
     ]
    }
   ],
   "source": [
    "#minimize the cost function using conjugate-gradient (cg) algorithm\n",
    "result = sp.minimize(n.nnCostFunction, x0 = nn_params, args = func_args, method = 'cg', jac = True, options = {'disp': True, 'maxiter': 5})\n",
    "adjusted_weights = result.x"
   ]
  },
  {
   "cell_type": "code",
   "execution_count": 5,
   "id": "1cdb9d4e",
   "metadata": {},
   "outputs": [],
   "source": [
    "#reshape flattened arrays into matrix form\n",
    "theta1 = np.reshape(adjusted_weights[:hidden_layer_size*(input_layer_size+1)],(hidden_layer_size, input_layer_size+1))\n",
    "theta2 = np.reshape(adjusted_weights[hidden_layer_size*(input_layer_size+1):], (num_labels, hidden_layer_size+1))"
   ]
  },
  {
   "cell_type": "code",
   "execution_count": 6,
   "id": "e3f0ff7d",
   "metadata": {},
   "outputs": [
    {
     "name": "stdout",
     "output_type": "stream",
     "text": [
      "[1.77062867e-05 1.20454841e-03 4.58999650e-07 9.76322853e-01\n",
      " 8.67644535e-04 1.97823755e-03 1.22420266e-02 3.83929245e-03\n",
      " 6.14060256e-03 9.34413688e-04]\n",
      "Predicted Value is: 4\n"
     ]
    }
   ],
   "source": [
    "#prediction\n",
    "print(\"Predicted Value is: \" + str(n.predict([theta1,theta2],x[2231])))"
   ]
  },
  {
   "cell_type": "code",
   "execution_count": null,
   "id": "6821a4dd",
   "metadata": {},
   "outputs": [],
   "source": []
  }
 ],
 "metadata": {
  "kernelspec": {
   "display_name": "Python 3",
   "language": "python",
   "name": "python3"
  },
  "language_info": {
   "codemirror_mode": {
    "name": "ipython",
    "version": 3
   },
   "file_extension": ".py",
   "mimetype": "text/x-python",
   "name": "python",
   "nbconvert_exporter": "python",
   "pygments_lexer": "ipython3",
   "version": "3.8.8"
  }
 },
 "nbformat": 4,
 "nbformat_minor": 5
}
