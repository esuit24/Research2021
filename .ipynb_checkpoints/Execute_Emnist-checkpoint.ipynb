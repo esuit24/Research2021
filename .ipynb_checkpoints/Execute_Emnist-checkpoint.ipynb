{
 "cells": [
  {
   "cell_type": "code",
   "execution_count": 1,
   "id": "ad751df0",
   "metadata": {},
   "outputs": [],
   "source": [
    "import numpy as np\n",
    "from scipy import optimize as sp\n",
    "import Neural_Network as n\n",
    "import Set_Emnist_Data as data\n",
    "from random import sample"
   ]
  },
  {
   "cell_type": "code",
   "execution_count": 2,
   "id": "fe58b90c",
   "metadata": {},
   "outputs": [],
   "source": [
    "theta1 = data.theta1\n",
    "theta2 = data.theta2\n",
    "nn_params = [theta1, theta2] \n",
    "flattened_params = np.hstack((theta1.flatten(),theta2.flatten()))\n",
    "lambda_val = 1 \n",
    "input_layer_size = data.input_layer_size\n",
    "hidden_layer_size = data.hidden_layer_size\n",
    "num_labels = data.num_labels\n",
    "x = data.x\n",
    "y = data.y\n",
    "\n",
    "\n"
   ]
  },
  {
   "cell_type": "code",
   "execution_count": 3,
   "id": "818a3455",
   "metadata": {},
   "outputs": [],
   "source": [
    "#set sample matricies\n",
    "x_sample = np.zeros((int(len(data.df3)*(0.7)), input_layer_size)) #take only 70% for training to leave 30% for testing\n",
    "y_vec = np.zeros((len(data.df4),))\n",
    "y_vec = data.y_vec\n",
    "y_sample = np.zeros((int(len(data.df4)*0.7)),)\n",
    "random_indicies = sample(range(0,int(len(data.df3))),int(len(data.df3)*0.7)) "
   ]
  },
  {
   "cell_type": "code",
   "execution_count": 4,
   "id": "6b7f8656",
   "metadata": {},
   "outputs": [],
   "source": [
    "#Randomly initialize\n",
    "#theta1 = n.randomly_initialize(input_layer_size, hidden_layer_size)\n",
    "#theta2 = n.randomly_initialize(hidden_layer_size, num_labels)\n",
    "theta1 = data.theta1\n",
    "theta2 = data.theta2"
   ]
  },
  {
   "cell_type": "code",
   "execution_count": null,
   "id": "d61ca91a",
   "metadata": {},
   "outputs": [],
   "source": []
  },
  {
   "cell_type": "code",
   "execution_count": 5,
   "id": "953bdcc0",
   "metadata": {},
   "outputs": [
    {
     "name": "stdout",
     "output_type": "stream",
     "text": [
      "Y Sample: 7.0\n"
     ]
    }
   ],
   "source": [
    "for index in range(len(random_indicies)):\n",
    "    sample_index = random_indicies[index] \n",
    "    x_sample[index] = x[sample_index] \n",
    "    y_sample[index] = y_vec[sample_index]\n",
    "print(\"Y Sample: \" + str(y_sample[1256])) \n",
    "x_test = np.zeros((int(len(data.df3)*0.3),input_layer_size))\n",
    "y_test = np.zeros((int(len(data.df4)*0.3),))\n",
    "#set test data\n",
    "test_indicies = np.zeros((int(len(data.df3)*0.3),))\n",
    "count = 0\n",
    "for ind in range(len(data.df3)):\n",
    "    if ind not in random_indicies:\n",
    "        test_indicies[count] = ind\n",
    "        count+=1\n",
    "for ii in range(len(test_indicies)):\n",
    "    test_index = int(test_indicies[ii])\n",
    "    x_test[ii] = x[test_index]\n",
    "    y_test[ii] = y_vec[test_index]"
   ]
  },
  {
   "cell_type": "code",
   "execution_count": 6,
   "id": "ec582d0e",
   "metadata": {},
   "outputs": [],
   "source": [
    "x = x_sample\n",
    "ones = np.ones((len(x_sample),1))\n",
    "test_ones = np.ones((len(x_test),1))\n",
    "x = np.hstack((ones, x)) \n",
    "x_test = np.hstack((test_ones,x_test))\n",
    "y_vec = y_sample"
   ]
  },
  {
   "cell_type": "code",
   "execution_count": 7,
   "id": "c4df073c",
   "metadata": {},
   "outputs": [],
   "source": [
    "m = len(x)\n",
    "# set y to be a 2-D matrix with each column being a different sample and each row corresponding to a value 0-9\n",
    "y = np.zeros((m,num_labels))\n",
    "y_test_matrix = np.zeros((len(y_test),num_labels))\n",
    "# for every label, convert it into vector of 0s and a 1 in the appropriate position\n",
    "for i in range(m): #each row is new training sample\n",
    "    index = int(y_vec[i]-1)\n",
    "    y[i][index] = 1\n",
    "y_temp = y_test\n",
    "for j in range(int(len(y_test))):\n",
    "    index2 = int(y_temp[j]-1)\n",
    "    y_test_matrix[j][index2] = 1\n",
    "y_test = y_test_matrix\n",
    "nn_params = [theta1, theta2] "
   ]
  },
  {
   "cell_type": "code",
   "execution_count": 8,
   "id": "50aaf8c1",
   "metadata": {},
   "outputs": [],
   "source": [
    "flattened_params = np.hstack((theta1.flatten(), theta2.flatten()))\n",
    "lambda_val = 5 #set this as whatever minimizes cost\n"
   ]
  },
  {
   "cell_type": "code",
   "execution_count": 9,
   "id": "66a3e696",
   "metadata": {},
   "outputs": [
    {
     "name": "stdout",
     "output_type": "stream",
     "text": [
      "Cost: 6.130722511664775\n"
     ]
    }
   ],
   "source": [
    "#calculate the gradients and cost\n",
    "final_res = n.nnCostFunction(flattened_params, input_layer_size, hidden_layer_size, num_labels, x, y, lambda_val, m)\n"
   ]
  },
  {
   "cell_type": "code",
   "execution_count": 10,
   "id": "69ab1521",
   "metadata": {},
   "outputs": [],
   "source": [
    "#flatten and merge theta1 and theta2 values into a single vector \n",
    "nn_params = flattened_params\n",
    "func_args = (input_layer_size, hidden_layer_size, num_labels, x, y, lambda_val, m)"
   ]
  },
  {
   "cell_type": "code",
   "execution_count": null,
   "id": "3b757893",
   "metadata": {},
   "outputs": [
    {
     "name": "stdout",
     "output_type": "stream",
     "text": [
      "Cost: 6.130722511664775\n",
      "Cost: 6.130720652703931\n",
      "Cost: 6.130722419495551\n",
      "Cost: 2.8008934012961504\n",
      "Cost: 2.8008933499833346\n",
      "Cost: 2.800893389896701\n"
     ]
    }
   ],
   "source": [
    "#minimize the cost function using conjugate-gradient (cg) algorithm\n",
    "result = sp.minimize(n.nnCostFunction, x0 = nn_params, args = func_args, method = 'tnc', jac = True, options = {'disp': True, 'maxiter': None})\n",
    "print(result) \n",
    "adjusted_weights = result.x\n"
   ]
  },
  {
   "cell_type": "code",
   "execution_count": 18,
   "id": "1cdb9d4e",
   "metadata": {},
   "outputs": [],
   "source": [
    "#reshape flattened arrays into matrix form\n",
    "theta1 = np.reshape(adjusted_weights[:hidden_layer_size*(input_layer_size+1)],(hidden_layer_size, input_layer_size+1))\n",
    "theta2 = np.reshape(adjusted_weights[hidden_layer_size*(input_layer_size+1):], (num_labels, hidden_layer_size+1))"
   ]
  },
  {
   "cell_type": "code",
   "execution_count": 19,
   "id": "772940b4",
   "metadata": {},
   "outputs": [
    {
     "name": "stdout",
     "output_type": "stream",
     "text": [
      "Lambda Value: 0\n",
      "Cost: 0.27533378247895096\n",
      "Test Cost: 0.0921183698600693\n",
      "Lambda Value: 0.5\n",
      "Cost: 0.3026309942425235\n",
      "Test Cost: 0.18310907573864435\n",
      "Lambda Value: 1.0\n",
      "Cost: 0.32992820600609596\n",
      "Test Cost: 0.2740997816172194\n",
      "Lambda Value: 1.5\n",
      "Cost: 0.3572254177696685\n",
      "Test Cost: 0.3650904874957944\n",
      "Lambda Value: 2.0\n",
      "Cost: 0.384522629533241\n",
      "Test Cost: 0.4560811933743695\n",
      "Lambda Value: 2.5\n",
      "Cost: 0.4118198412968135\n",
      "Test Cost: 0.5470718992529444\n",
      "Lambda Value: 3.0\n",
      "Cost: 0.439117053060386\n",
      "Test Cost: 0.6380626051315196\n",
      "Lambda Value: 3.5\n",
      "Cost: 0.46641426482395854\n",
      "Test Cost: 0.7290533110100945\n"
     ]
    }
   ],
   "source": [
    "lambda_val = 0\n",
    "while (lambda_val <= 3.5):\n",
    "    print(\"Lambda Value: \" + str(lambda_val))\n",
    "    n.nnCostFunction(adjusted_weights, input_layer_size, hidden_layer_size, num_labels, x, y, lambda_val, m)\n",
    "    J = 0\n",
    "    cost_temp = 0\n",
    "    for samp in range(len(x_test)):\n",
    "        x_curr = x_test[samp]\n",
    "        z2 = np.matmul(x_curr,theta1.T)\n",
    "        a2 = n.sigmoid(z2)\n",
    "        a2 = np.hstack(([1], a2))\n",
    "        z3 = np.matmul(a2,theta2.T)\n",
    "        a3 = n.sigmoid(z3)\n",
    "\n",
    "    cost_temp += n.calc_cost(y_test[samp], a3, lambda_val, len(x_test))\n",
    "    lambda_val += 0.5\n",
    "    #Accumulate cost values and regularize to get Cost(J) \n",
    "    term1 = (1/len(x_test))*cost_temp\n",
    "    term2 = n.regularization(lambda_val, len(x_test), theta1, theta2)\n",
    "    J = term1 + term2\n",
    "    print(\"Test Cost: \" + str(J))"
   ]
  },
  {
   "cell_type": "code",
   "execution_count": 20,
   "id": "95412249",
   "metadata": {},
   "outputs": [
    {
     "name": "stdout",
     "output_type": "stream",
     "text": [
      "Test Cost: 0.6615250521583146\n"
     ]
    }
   ],
   "source": [
    "#test\n",
    "J = 0\n",
    "cost_temp = 0\n",
    "for samp in range(len(x_test)):\n",
    "    x_curr = x_test[samp]\n",
    "    z2 = np.matmul(x_curr,theta1.T)\n",
    "    a2 = n.sigmoid(z2)\n",
    "    a2 = np.hstack(([1], a2))\n",
    "    z3 = np.matmul(a2,theta2.T)\n",
    "    a3 = n.sigmoid(z3)\n",
    "\n",
    "    cost_temp += n.calc_cost(y_test[samp], a3, lambda_val, len(x_test))\n",
    "\n",
    "#Accumulate cost values and regularize to get Cost(J) \n",
    "term1 = (1/len(x_test))*cost_temp\n",
    "term2 = n.regularization(1, len(x_test), theta1, theta2)\n",
    "J = term1 + term2\n",
    "print(\"Test Cost: \" + str(J))"
   ]
  },
  {
   "cell_type": "code",
   "execution_count": null,
   "id": "d2deeca1",
   "metadata": {},
   "outputs": [],
   "source": [
    "#prediction\n",
    "print(\"Predicted Value is: \" + str(n.predict([theta1,theta2],x[1256])))"
   ]
  },
  {
   "cell_type": "code",
   "execution_count": null,
   "id": "a5d44c40",
   "metadata": {},
   "outputs": [],
   "source": [
    "#accuracy: \n",
    "test_samples = #some array of hypothetized values\n",
    "actual_vals = #some array of actual values\n",
    "num_samples = len(test_samples) \n",
    "sample_num = 0\n",
    "count = 0 \n",
    "while(sample_num < test_sample):\n",
    "    if (test_samples[sample_num] == y[sample_num]):\n",
    "        count += 1\n",
    "accuracy = float(count)/num_samples "
   ]
  }
 ],
 "metadata": {
  "kernelspec": {
   "display_name": "Python 3",
   "language": "python",
   "name": "python3"
  },
  "language_info": {
   "codemirror_mode": {
    "name": "ipython",
    "version": 3
   },
   "file_extension": ".py",
   "mimetype": "text/x-python",
   "name": "python",
   "nbconvert_exporter": "python",
   "pygments_lexer": "ipython3",
   "version": "3.8.10"
  }
 },
 "nbformat": 4,
 "nbformat_minor": 5
}
