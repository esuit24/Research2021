{
 "cells": [
  {
   "cell_type": "code",
   "execution_count": 1,
   "id": "198c185f",
   "metadata": {
    "scrolled": false
   },
   "outputs": [],
   "source": [
    "import tensorflow as tf\n",
    "import numpy as np\n",
    "import Moment_Data as data\n",
    "import matplotlib.pyplot as plt\n",
    "import os\n",
    "os.environ['KMP_DUPLICATE_LIB_OK']='True'"
   ]
  },
  {
   "cell_type": "code",
   "execution_count": 2,
   "id": "59a74b3b",
   "metadata": {},
   "outputs": [],
   "source": [
    "num_labels = 5\n",
    "num_coef = 4 #number of coefficient labels in the polynomial sequence"
   ]
  },
  {
   "cell_type": "code",
   "execution_count": 3,
   "id": "f51ce54b",
   "metadata": {},
   "outputs": [],
   "source": [
    "#load input data for gaussian\n",
    "training = data.generate_training_data(1000, num_labels, num_coef) #outputs an array of x_vals, mean values, and sigma values respectively\n",
    "training_moments = training[0] \n",
    "training_labels = training[1]  \n",
    "\n",
    "testing = data.generate_training_data(300, num_labels, num_coef)\n",
    "testing_moments = testing[0] \n",
    "testing_labels = testing[1] \n",
    "\n"
   ]
  },
  {
   "cell_type": "code",
   "execution_count": 4,
   "id": "d1c35373",
   "metadata": {},
   "outputs": [],
   "source": [
    "#set layers\n",
    "model = tf.keras.models.Sequential() #feed forward\n",
    "#input layer: 21 different x values to represent the gaussian function\n",
    "model.add(tf.keras.layers.Dense(21, activation = tf.nn.relu)) \n",
    "#hidden layers (2):  \n",
    "model.add(tf.keras.layers.Dense(125, activation = tf.nn.relu))\n",
    "model.add(tf.keras.layers.Dense(125, activation = tf.nn.relu))\n",
    "#output layer:\n",
    "model.add(tf.keras.layers.Dense(num_coef,))\n"
   ]
  },
  {
   "cell_type": "code",
   "execution_count": 5,
   "id": "4a2eac88",
   "metadata": {},
   "outputs": [
    {
     "name": "stdout",
     "output_type": "stream",
     "text": [
      "Train on 1000 samples\n",
      "Epoch 1/81\n",
      "1000/1000 [==============================] - 1s 951us/sample - loss: 85.8739 - accuracy: 0.4980\n",
      "Epoch 2/81\n",
      "1000/1000 [==============================] - 0s 166us/sample - loss: 57.3851 - accuracy: 0.5720\n",
      "Epoch 3/81\n",
      "1000/1000 [==============================] - 0s 97us/sample - loss: 44.7312 - accuracy: 0.6180\n",
      "Epoch 4/81\n",
      "1000/1000 [==============================] - 0s 93us/sample - loss: 35.0728 - accuracy: 0.6520\n",
      "Epoch 5/81\n",
      "1000/1000 [==============================] - 0s 87us/sample - loss: 32.4587 - accuracy: 0.6590\n",
      "Epoch 6/81\n",
      "1000/1000 [==============================] - 0s 91us/sample - loss: 32.6441 - accuracy: 0.6790\n",
      "Epoch 7/81\n",
      "1000/1000 [==============================] - 0s 82us/sample - loss: 32.7463 - accuracy: 0.6730\n",
      "Epoch 8/81\n",
      "1000/1000 [==============================] - 0s 88us/sample - loss: 32.1227 - accuracy: 0.6810\n",
      "Epoch 9/81\n",
      "1000/1000 [==============================] - 0s 89us/sample - loss: 31.1242 - accuracy: 0.6770\n",
      "Epoch 10/81\n",
      "1000/1000 [==============================] - 0s 91us/sample - loss: 31.4232 - accuracy: 0.6820\n",
      "Epoch 11/81\n",
      "1000/1000 [==============================] - 0s 91us/sample - loss: 30.4738 - accuracy: 0.6830\n",
      "Epoch 12/81\n",
      "1000/1000 [==============================] - 0s 87us/sample - loss: 29.8819 - accuracy: 0.6890\n",
      "Epoch 13/81\n",
      "1000/1000 [==============================] - 0s 90us/sample - loss: 30.3617 - accuracy: 0.6930\n",
      "Epoch 14/81\n",
      "1000/1000 [==============================] - 0s 93us/sample - loss: 28.5743 - accuracy: 0.6950\n",
      "Epoch 15/81\n",
      "1000/1000 [==============================] - 0s 87us/sample - loss: 27.4271 - accuracy: 0.7040\n",
      "Epoch 16/81\n",
      "1000/1000 [==============================] - 0s 86us/sample - loss: 27.6390 - accuracy: 0.7130\n",
      "Epoch 17/81\n",
      "1000/1000 [==============================] - 0s 87us/sample - loss: 24.8093 - accuracy: 0.7360\n",
      "Epoch 18/81\n",
      "1000/1000 [==============================] - 0s 88us/sample - loss: 24.3338 - accuracy: 0.7210\n",
      "Epoch 19/81\n",
      "1000/1000 [==============================] - 0s 87us/sample - loss: 20.4129 - accuracy: 0.7690\n",
      "Epoch 20/81\n",
      "1000/1000 [==============================] - 0s 91us/sample - loss: 18.5978 - accuracy: 0.7700\n",
      "Epoch 21/81\n",
      "1000/1000 [==============================] - 0s 95us/sample - loss: 16.9421 - accuracy: 0.7800\n",
      "Epoch 22/81\n",
      "1000/1000 [==============================] - 0s 96us/sample - loss: 12.2543 - accuracy: 0.8110\n",
      "Epoch 23/81\n",
      "1000/1000 [==============================] - 0s 94us/sample - loss: 11.2647 - accuracy: 0.8270\n",
      "Epoch 24/81\n",
      "1000/1000 [==============================] - 0s 86us/sample - loss: 9.6303 - accuracy: 0.8260\n",
      "Epoch 25/81\n",
      "1000/1000 [==============================] - 0s 87us/sample - loss: 4.6641 - accuracy: 0.8790\n",
      "Epoch 26/81\n",
      "1000/1000 [==============================] - 0s 95us/sample - loss: 4.2899 - accuracy: 0.8890\n",
      "Epoch 27/81\n",
      "1000/1000 [==============================] - 0s 94us/sample - loss: 3.0841 - accuracy: 0.9080\n",
      "Epoch 28/81\n",
      "1000/1000 [==============================] - 0s 92us/sample - loss: 2.0582 - accuracy: 0.9230\n",
      "Epoch 29/81\n",
      "1000/1000 [==============================] - 0s 96us/sample - loss: 1.9751 - accuracy: 0.9390\n",
      "Epoch 30/81\n",
      "1000/1000 [==============================] - 0s 98us/sample - loss: 1.7040 - accuracy: 0.9440\n",
      "Epoch 31/81\n",
      "1000/1000 [==============================] - 0s 99us/sample - loss: 1.0070 - accuracy: 0.9520\n",
      "Epoch 32/81\n",
      "1000/1000 [==============================] - 0s 88us/sample - loss: 1.0704 - accuracy: 0.9440\n",
      "Epoch 33/81\n",
      "1000/1000 [==============================] - 0s 88us/sample - loss: 0.8059 - accuracy: 0.9560\n",
      "Epoch 34/81\n",
      "1000/1000 [==============================] - 0s 90us/sample - loss: 0.7186 - accuracy: 0.9550\n",
      "Epoch 35/81\n",
      "1000/1000 [==============================] - 0s 87us/sample - loss: 0.7445 - accuracy: 0.9640\n",
      "Epoch 36/81\n",
      "1000/1000 [==============================] - 0s 91us/sample - loss: 0.9487 - accuracy: 0.9560\n",
      "Epoch 37/81\n",
      "1000/1000 [==============================] - 0s 89us/sample - loss: 1.3011 - accuracy: 0.9430\n",
      "Epoch 38/81\n",
      "1000/1000 [==============================] - 0s 90us/sample - loss: 0.8542 - accuracy: 0.9570\n",
      "Epoch 39/81\n",
      "1000/1000 [==============================] - 0s 95us/sample - loss: 0.5501 - accuracy: 0.9650\n",
      "Epoch 40/81\n",
      "1000/1000 [==============================] - 0s 93us/sample - loss: 0.5423 - accuracy: 0.9660\n",
      "Epoch 41/81\n",
      "1000/1000 [==============================] - 0s 91us/sample - loss: 0.5090 - accuracy: 0.9640\n",
      "Epoch 42/81\n",
      "1000/1000 [==============================] - 0s 97us/sample - loss: 0.4847 - accuracy: 0.9720\n",
      "Epoch 43/81\n",
      "1000/1000 [==============================] - 0s 91us/sample - loss: 0.6480 - accuracy: 0.9530\n",
      "Epoch 44/81\n",
      "1000/1000 [==============================] - 0s 92us/sample - loss: 0.5239 - accuracy: 0.9690\n",
      "Epoch 45/81\n",
      "1000/1000 [==============================] - 0s 85us/sample - loss: 0.4184 - accuracy: 0.9740\n",
      "Epoch 46/81\n",
      "1000/1000 [==============================] - 0s 87us/sample - loss: 0.4820 - accuracy: 0.9660\n",
      "Epoch 47/81\n",
      "1000/1000 [==============================] - 0s 87us/sample - loss: 0.4737 - accuracy: 0.9710\n",
      "Epoch 48/81\n",
      "1000/1000 [==============================] - 0s 87us/sample - loss: 0.6447 - accuracy: 0.9650\n",
      "Epoch 49/81\n",
      "1000/1000 [==============================] - 0s 85us/sample - loss: 0.3909 - accuracy: 0.9700\n",
      "Epoch 50/81\n",
      "1000/1000 [==============================] - 0s 93us/sample - loss: 0.4667 - accuracy: 0.9670\n",
      "Epoch 51/81\n",
      "1000/1000 [==============================] - 0s 92us/sample - loss: 0.5287 - accuracy: 0.9650\n",
      "Epoch 52/81\n",
      "1000/1000 [==============================] - 0s 100us/sample - loss: 0.5936 - accuracy: 0.9620\n",
      "Epoch 53/81\n",
      "1000/1000 [==============================] - 0s 102us/sample - loss: 0.3491 - accuracy: 0.9650\n",
      "Epoch 54/81\n",
      "1000/1000 [==============================] - 0s 90us/sample - loss: 0.4945 - accuracy: 0.9670\n",
      "Epoch 55/81\n",
      "1000/1000 [==============================] - 0s 88us/sample - loss: 0.5543 - accuracy: 0.9650\n",
      "Epoch 56/81\n",
      "1000/1000 [==============================] - 0s 98us/sample - loss: 0.6505 - accuracy: 0.9620\n",
      "Epoch 57/81\n",
      "1000/1000 [==============================] - 0s 97us/sample - loss: 0.5222 - accuracy: 0.9620\n",
      "Epoch 58/81\n",
      "1000/1000 [==============================] - 0s 90us/sample - loss: 0.8174 - accuracy: 0.9590\n",
      "Epoch 59/81\n",
      "1000/1000 [==============================] - 0s 92us/sample - loss: 0.3547 - accuracy: 0.9760\n",
      "Epoch 60/81\n",
      "1000/1000 [==============================] - 0s 97us/sample - loss: 0.3806 - accuracy: 0.9670\n",
      "Epoch 61/81\n",
      "1000/1000 [==============================] - 0s 96us/sample - loss: 0.5022 - accuracy: 0.9630\n",
      "Epoch 62/81\n",
      "1000/1000 [==============================] - 0s 97us/sample - loss: 0.2814 - accuracy: 0.9750\n",
      "Epoch 63/81\n",
      "1000/1000 [==============================] - 0s 99us/sample - loss: 0.3148 - accuracy: 0.9790\n",
      "Epoch 64/81\n",
      "1000/1000 [==============================] - 0s 96us/sample - loss: 1.3290 - accuracy: 0.9510\n",
      "Epoch 65/81\n",
      "1000/1000 [==============================] - 0s 88us/sample - loss: 0.6844 - accuracy: 0.9630\n",
      "Epoch 66/81\n",
      "1000/1000 [==============================] - 0s 90us/sample - loss: 0.3284 - accuracy: 0.9740\n",
      "Epoch 67/81\n",
      "1000/1000 [==============================] - 0s 95us/sample - loss: 0.3059 - accuracy: 0.9700\n",
      "Epoch 68/81\n",
      "1000/1000 [==============================] - 0s 90us/sample - loss: 0.2974 - accuracy: 0.9770\n",
      "Epoch 69/81\n",
      "1000/1000 [==============================] - 0s 89us/sample - loss: 0.2580 - accuracy: 0.9820\n",
      "Epoch 70/81\n",
      "1000/1000 [==============================] - 0s 87us/sample - loss: 0.2543 - accuracy: 0.9800\n",
      "Epoch 71/81\n",
      "1000/1000 [==============================] - 0s 87us/sample - loss: 0.2389 - accuracy: 0.9740\n",
      "Epoch 72/81\n",
      "1000/1000 [==============================] - 0s 87us/sample - loss: 0.2364 - accuracy: 0.9780\n",
      "Epoch 73/81\n",
      "1000/1000 [==============================] - 0s 92us/sample - loss: 0.3458 - accuracy: 0.9780\n",
      "Epoch 74/81\n",
      "1000/1000 [==============================] - 0s 92us/sample - loss: 0.3677 - accuracy: 0.9700\n",
      "Epoch 75/81\n",
      "1000/1000 [==============================] - 0s 90us/sample - loss: 0.2695 - accuracy: 0.9780\n",
      "Epoch 76/81\n",
      "1000/1000 [==============================] - 0s 86us/sample - loss: 0.2944 - accuracy: 0.9730\n",
      "Epoch 77/81\n"
     ]
    },
    {
     "name": "stdout",
     "output_type": "stream",
     "text": [
      "1000/1000 [==============================] - 0s 92us/sample - loss: 0.2518 - accuracy: 0.9790\n",
      "Epoch 78/81\n",
      "1000/1000 [==============================] - 0s 96us/sample - loss: 0.2027 - accuracy: 0.9730\n",
      "Epoch 79/81\n",
      "1000/1000 [==============================] - 0s 92us/sample - loss: 0.4677 - accuracy: 0.9670\n",
      "Epoch 80/81\n",
      "1000/1000 [==============================] - 0s 94us/sample - loss: 0.3411 - accuracy: 0.9660\n",
      "Epoch 81/81\n",
      "1000/1000 [==============================] - 0s 96us/sample - loss: 0.2123 - accuracy: 0.9790\n"
     ]
    },
    {
     "data": {
      "text/plain": [
       "<tensorflow.python.keras.callbacks.History at 0x7f9633997990>"
      ]
     },
     "execution_count": 5,
     "metadata": {},
     "output_type": "execute_result"
    }
   ],
   "source": [
    "#optimize\n",
    "model.compile(optimizer = 'adam', \n",
    "              loss = 'mean_squared_error',\n",
    "              metrics = ['accuracy'])\n",
    "model.fit(training_moments, training_labels, epochs = 81) #90 epochs minimizes the difference between test and training and testing cost\n"
   ]
  },
  {
   "cell_type": "code",
   "execution_count": 8,
   "id": "de2d7b97",
   "metadata": {},
   "outputs": [
    {
     "name": "stdout",
     "output_type": "stream",
     "text": [
      "\r",
      "300/1 [========================================================================================================================================================================================================================================================================================================================================================================================================================================================================================================================================================================================================================================================================================================================================================================================================================================================================================================================================================================================================================================================================================================================================================================================================================================================================================================================================================================================================================================================================================================================================================================================================================================================================================================================================================================================================================================================================================================================================================================================================================================================================================================================================================================================================================================================================================================================================================================================================================================================================================================================================================================================================================================================================================================================================================================================================================================================================================================================================================================================================================================================================================================================================================================================================================================================================================================================================================================================================================================================================================================================================================================================================================================================================================================================================================================================================================================================================================================================================================================================================================================================================================================================================================================================================================================================================================================================================================================================================================================================================================================================================================================================================================================================================================================================================================================================================================================================================================================================================================================================================================================================================================================================================================================================================================================================================================================================================================================================================================================================================================================================================================================================================================================================================================================================================================================================================================================================================================================================================================================================================================================================================================================================================================================================================================================================================================================================================================================================================================================================================================================================================================================================================================================================================================================================================================================================================================================================================================================================================================================================================================================================================================================================================================================================================================================================================================================================================================================================================================================================================================================================================================================================================================================================================================================================================================================================================================================================================================================================================================================================================================================================================================================================================================================================================================================================================================================================================================================================================================================================================================================================================================================================================================================================================================================================================================================================================================================================================================================================================================================================================================================================================================================================================================================================================================================================================================================================================================================] - 0s 506us/sample - loss: 0.3065 - accuracy: 0.9933\n"
     ]
    },
    {
     "name": "stdout",
     "output_type": "stream",
     "text": [
      "0.39905681788921354 0.99333334\n"
     ]
    }
   ],
   "source": [
    "#evaluate the test set and find test loss and accuracy\n",
    "results = model.evaluate(x = testing_moments, y = testing_labels)\n",
    "val_loss = results[0] #loss between model and actual\n",
    "val_acc = results[1] #accuracy of the model based on actual\n",
    "print(val_loss, val_acc)"
   ]
  },
  {
   "cell_type": "code",
   "execution_count": 9,
   "id": "d6b11648",
   "metadata": {},
   "outputs": [
    {
     "name": "stdout",
     "output_type": "stream",
     "text": [
      "WARNING:tensorflow:From /Users/elliesuit/opt/anaconda3/envs/tensorflow/lib/python3.7/site-packages/tensorflow_core/python/ops/resource_variable_ops.py:1781: calling BaseResourceVariable.__init__ (from tensorflow.python.ops.resource_variable_ops) with constraint is deprecated and will be removed in a future version.\n",
      "Instructions for updating:\n",
      "If using Keras pass *_constraint arguments to layers.\n",
      "INFO:tensorflow:Assets written to: polynomial.model/assets\n"
     ]
    }
   ],
   "source": [
    "#saves the model data\n",
    "model.save('polynomial.model')\n",
    "new_model = tf.keras.models.load_model('polynomial.model')\n"
   ]
  },
  {
   "cell_type": "code",
   "execution_count": 11,
   "id": "041e1c6a",
   "metadata": {},
   "outputs": [
    {
     "name": "stdout",
     "output_type": "stream",
     "text": [
      "X Input Values: [-39.83589624   0.19234332 -15.8689326   -0.49084862 -10.18743684]\n",
      "Actual Coefficient Labels: [-15.06113464   8.24560683 -14.57044044 -13.26181975]\n",
      "Predicted Coefficient Labels: [-15.082333   8.296458 -14.483278 -13.711109]\n"
     ]
    }
   ],
   "source": [
    "#makes predictions for all elements in x_test array  \n",
    "predictions = new_model.predict(testing_moments) #predicts all means and standard deviations of the x_test dataset\n",
    "print(\"X Input Values: \" + str(testing_moments[234]))\n",
    "print(\"Actual Coefficient Labels: \" +  str(testing_labels[234]))  \n",
    "print(\"Predicted Coefficient Labels: \" + str(predictions[234])) "
   ]
  },
  {
   "cell_type": "code",
   "execution_count": 14,
   "id": "746e3a2e",
   "metadata": {},
   "outputs": [
    {
     "data": {
      "image/png": "[encoded data removed]",
      "text/plain": [
       "<Figure size 432x288 with 1 Axes>"
      ]
     },
     "metadata": {
      "needs_background": "light"
     },
     "output_type": "display_data"
    }
   ],
   "source": [
    "predictions = predictions.T\n",
    "testing_labels = testing_labels.T\n",
    "plt.scatter(predictions[0],testing_labels[0]) #first coef\n",
    "plt.title('Predicted First Coef vs. Actual First Coef')\n",
    "plt.xlabel('Actual Coef')\n",
    "plt.ylabel('Predicted Coef')\n",
    "plt.show() "
   ]
  },
  {
   "cell_type": "code",
   "execution_count": 10,
   "id": "7a2f3de0",
   "metadata": {},
   "outputs": [
    {
     "data": {
      "image/png": "[encoded data removed]",
      "text/plain": [
       "<Figure size 432x288 with 1 Axes>"
      ]
     },
     "metadata": {
      "needs_background": "light"
     },
     "output_type": "display_data"
    }
   ],
   "source": [
    "plt.scatter(predictions[1],y_test[1]) #SD\n",
    "plt.title('Predicted Second Coef vs. Actual Second Coef')\n",
    "plt.xlabel('Actual Coef')\n",
    "plt.ylabel('Predicted Coef')\n",
    "plt.show()"
   ]
  },
  {
   "cell_type": "code",
   "execution_count": null,
   "id": "fff0674e",
   "metadata": {},
   "outputs": [],
   "source": [
    "plt.scatter(predictions[1],y_test[1]) #SD\n",
    "plt.title('Predicted Second Coef vs. Actual Second Coef')\n",
    "plt.xlabel('Actual Coef')\n",
    "plt.ylabel('Predicted Coef')\n",
    "plt.show()"
   ]
  },
  {
   "cell_type": "code",
   "execution_count": 20,
   "id": "e11ef76d",
   "metadata": {
    "scrolled": true
   },
   "outputs": [
    {
     "data": {
      "image/png": "[encoded data removed]",
      "text/plain": [
       "<Figure size 432x288 with 1 Axes>"
      ]
     },
     "metadata": {
      "needs_background": "light"
     },
     "output_type": "display_data"
    },
    {
     "data": {
      "image/png": "[encoded data removed]",
      "text/plain": [
       "<Figure size 432x288 with 1 Axes>"
      ]
     },
     "metadata": {
      "needs_background": "light"
     },
     "output_type": "display_data"
    }
   ],
   "source": [
    "#percent error\n",
    "plt.scatter(range(len(testing_moments)), (predictions[0]-testing_labels[0])/(testing_labels[0]))\n",
    "plt.title('1st Coef Percent Error')\n",
    "plt.xlabel('Index')\n",
    "plt.ylabel('Percent Error')\n",
    "plt.show()\n",
    "plt.scatter(range(len(testing_moments)), (predictions[1]-testing_labels[1])/(testing_labels[1]))\n",
    "plt.title('2nd Coef Percent Error') \n",
    "plt.xlabel('Index')\n",
    "plt.ylabel('Percent Error') \n",
    "plt.show()"
   ]
  },
  {
   "cell_type": "code",
   "execution_count": 18,
   "id": "7e83b518",
   "metadata": {},
   "outputs": [
    {
     "data": {
      "image/png": "[encoded data removed]",
      "text/plain": [
       "<Figure size 432x288 with 1 Axes>"
      ]
     },
     "metadata": {
      "needs_background": "light"
     },
     "output_type": "display_data"
    },
    {
     "data": {
      "image/png": "[encoded data removed]",
      "text/plain": [
       "<Figure size 432x288 with 1 Axes>"
      ]
     },
     "metadata": {
      "needs_background": "light"
     },
     "output_type": "display_data"
    }
   ],
   "source": [
    "plt.hist((predictions[0]-testing_labels[0])/testing_labels[0])\n",
    "plt.title('Distribution of 1st Coef Errors')\n",
    "plt.ylabel('Number of Occurences')\n",
    "plt.xlabel('Percent Error')\n",
    "plt.show()\n",
    "plt.hist((predictions[1]-testing_labels[1])/testing_labels[1])\n",
    "plt.title('Distribution of 2nd Coef Errors')\n",
    "plt.ylabel('Number of Occurences') \n",
    "plt.xlabel('Percent Error') \n",
    "plt.show() "
   ]
  },
  {
   "cell_type": "code",
   "execution_count": null,
   "id": "782e4334",
   "metadata": {},
   "outputs": [],
   "source": []
  }
 ],
 "metadata": {
  "kernelspec": {
   "display_name": "Python 3",
   "language": "python",
   "name": "python3"
  },
  "language_info": {
   "codemirror_mode": {
    "name": "ipython",
    "version": 3
   },
   "file_extension": ".py",
   "mimetype": "text/x-python",
   "name": "python",
   "nbconvert_exporter": "python",
   "pygments_lexer": "ipython3",
   "version": "3.7.10"
  }
 },
 "nbformat": 4,
 "nbformat_minor": 5
}
