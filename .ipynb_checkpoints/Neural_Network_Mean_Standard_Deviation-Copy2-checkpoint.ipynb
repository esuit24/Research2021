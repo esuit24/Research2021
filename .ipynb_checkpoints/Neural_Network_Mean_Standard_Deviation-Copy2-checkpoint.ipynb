{
 "cells": [
  {
   "cell_type": "code",
   "execution_count": 1,
   "id": "198c185f",
   "metadata": {
    "scrolled": false
   },
   "outputs": [],
   "source": [
    "import tensorflow as tf\n",
    "import numpy as np\n",
    "import Set_Gaussian_Data as data\n",
    "import matplotlib.pyplot as plt\n",
    "#import os\n",
    "#os.environ['KMP_DUPLICATE_LIB_OK']='True'"
   ]
  },
  {
   "cell_type": "code",
   "execution_count": 2,
   "id": "4cc54633",
   "metadata": {},
   "outputs": [],
   "source": [
    "num_x_vals = np.array([4,8,16,32,64,128,256,512])\n",
    "training_vals = np.zeros(len(num_x_vals))\n",
    "testing_vals = np.zeros(len(num_x_vals))"
   ]
  },
  {
   "cell_type": "code",
   "execution_count": 25,
   "id": "f51ce54b",
   "metadata": {},
   "outputs": [
    {
     "name": "stdout",
     "output_type": "stream",
     "text": [
      "512\n",
      "Train on 1000 samples\n",
      "Epoch 1/90\n",
      "1000/1000 [==============================] - 1s 1ms/sample - loss: 0.0472 - accuracy: 0.7480\n",
      "Epoch 2/90\n",
      "1000/1000 [==============================] - 0s 158us/sample - loss: 0.0224 - accuracy: 0.8490\n",
      "Epoch 3/90\n",
      "1000/1000 [==============================] - 0s 157us/sample - loss: 0.0091 - accuracy: 0.8570\n",
      "Epoch 4/90\n",
      "1000/1000 [==============================] - 0s 155us/sample - loss: 0.0089 - accuracy: 0.8960\n",
      "Epoch 5/90\n",
      "1000/1000 [==============================] - 0s 156us/sample - loss: 0.0054 - accuracy: 0.9020\n",
      "Epoch 6/90\n",
      "1000/1000 [==============================] - 0s 159us/sample - loss: 0.0017 - accuracy: 0.9680\n",
      "Epoch 7/90\n",
      "1000/1000 [==============================] - 0s 159us/sample - loss: 0.0020 - accuracy: 0.9400\n",
      "Epoch 8/90\n",
      "1000/1000 [==============================] - 0s 158us/sample - loss: 0.0044 - accuracy: 0.8940\n",
      "Epoch 9/90\n",
      "1000/1000 [==============================] - 0s 170us/sample - loss: 0.0015 - accuracy: 0.9290\n",
      "Epoch 10/90\n",
      "1000/1000 [==============================] - 0s 397us/sample - loss: 0.0025 - accuracy: 0.9630\n",
      "Epoch 11/90\n",
      "1000/1000 [==============================] - 0s 212us/sample - loss: 0.0022 - accuracy: 0.9230\n",
      "Epoch 12/90\n",
      "1000/1000 [==============================] - 0s 175us/sample - loss: 8.9262e-04 - accuracy: 0.9640\n",
      "Epoch 13/90\n",
      "1000/1000 [==============================] - 0s 167us/sample - loss: 5.3506e-04 - accuracy: 0.9750\n",
      "Epoch 14/90\n",
      "1000/1000 [==============================] - 0s 184us/sample - loss: 2.7768e-04 - accuracy: 0.9860\n",
      "Epoch 15/90\n",
      "1000/1000 [==============================] - 0s 179us/sample - loss: 1.9997e-04 - accuracy: 0.9800\n",
      "Epoch 16/90\n",
      "1000/1000 [==============================] - 0s 215us/sample - loss: 9.5580e-05 - accuracy: 0.9950\n",
      "Epoch 17/90\n",
      "1000/1000 [==============================] - 0s 160us/sample - loss: 7.4825e-05 - accuracy: 0.9960\n",
      "Epoch 18/90\n",
      "1000/1000 [==============================] - 0s 178us/sample - loss: 6.5598e-05 - accuracy: 0.9930\n",
      "Epoch 19/90\n",
      "1000/1000 [==============================] - 0s 162us/sample - loss: 6.4049e-05 - accuracy: 0.9930\n",
      "Epoch 20/90\n",
      "1000/1000 [==============================] - 0s 169us/sample - loss: 6.5155e-05 - accuracy: 0.9960\n",
      "Epoch 21/90\n",
      "1000/1000 [==============================] - 0s 159us/sample - loss: 7.8390e-05 - accuracy: 0.9960\n",
      "Epoch 22/90\n",
      "1000/1000 [==============================] - 0s 159us/sample - loss: 1.0652e-04 - accuracy: 0.9880\n",
      "Epoch 23/90\n",
      "1000/1000 [==============================] - 0s 158us/sample - loss: 1.2993e-04 - accuracy: 0.9960\n",
      "Epoch 24/90\n",
      "1000/1000 [==============================] - 0s 157us/sample - loss: 8.0087e-05 - accuracy: 0.9950\n",
      "Epoch 25/90\n",
      "1000/1000 [==============================] - 0s 158us/sample - loss: 7.4367e-05 - accuracy: 0.9940\n",
      "Epoch 26/90\n",
      "1000/1000 [==============================] - 0s 157us/sample - loss: 7.7094e-05 - accuracy: 0.9940\n",
      "Epoch 27/90\n",
      "1000/1000 [==============================] - 0s 160us/sample - loss: 1.2086e-04 - accuracy: 0.9900\n",
      "Epoch 28/90\n",
      "1000/1000 [==============================] - 0s 160us/sample - loss: 1.6621e-04 - accuracy: 0.9840\n",
      "Epoch 29/90\n",
      "1000/1000 [==============================] - 0s 162us/sample - loss: 2.0094e-04 - accuracy: 0.9900\n",
      "Epoch 30/90\n",
      "1000/1000 [==============================] - 0s 160us/sample - loss: 2.4761e-04 - accuracy: 0.9870\n",
      "Epoch 31/90\n",
      "1000/1000 [==============================] - 0s 157us/sample - loss: 2.1198e-04 - accuracy: 0.9890\n",
      "Epoch 32/90\n",
      "1000/1000 [==============================] - 0s 158us/sample - loss: 1.7682e-04 - accuracy: 0.9900\n",
      "Epoch 33/90\n",
      "1000/1000 [==============================] - 0s 158us/sample - loss: 2.1043e-04 - accuracy: 0.9860\n",
      "Epoch 34/90\n",
      "1000/1000 [==============================] - 0s 159us/sample - loss: 1.2946e-04 - accuracy: 0.9880\n",
      "Epoch 35/90\n",
      "1000/1000 [==============================] - 0s 168us/sample - loss: 6.9526e-05 - accuracy: 0.9920\n",
      "Epoch 36/90\n",
      "1000/1000 [==============================] - 0s 167us/sample - loss: 7.2000e-05 - accuracy: 0.9950\n",
      "Epoch 37/90\n",
      "1000/1000 [==============================] - 0s 164us/sample - loss: 5.8049e-05 - accuracy: 0.9900\n",
      "Epoch 38/90\n",
      "1000/1000 [==============================] - 0s 162us/sample - loss: 5.4899e-05 - accuracy: 0.9930\n",
      "Epoch 39/90\n",
      "1000/1000 [==============================] - 0s 160us/sample - loss: 7.9420e-05 - accuracy: 0.9940\n",
      "Epoch 40/90\n",
      "1000/1000 [==============================] - 0s 159us/sample - loss: 9.1702e-05 - accuracy: 0.9940\n",
      "Epoch 41/90\n",
      "1000/1000 [==============================] - 0s 159us/sample - loss: 1.4583e-04 - accuracy: 0.9920\n",
      "Epoch 42/90\n",
      "1000/1000 [==============================] - 0s 166us/sample - loss: 1.3880e-04 - accuracy: 0.9890\n",
      "Epoch 43/90\n",
      "1000/1000 [==============================] - 0s 163us/sample - loss: 1.2436e-04 - accuracy: 0.9900\n",
      "Epoch 44/90\n",
      "1000/1000 [==============================] - 0s 155us/sample - loss: 1.3475e-04 - accuracy: 0.9900\n",
      "Epoch 45/90\n",
      "1000/1000 [==============================] - 0s 160us/sample - loss: 1.1887e-04 - accuracy: 0.9910\n",
      "Epoch 46/90\n",
      "1000/1000 [==============================] - 0s 162us/sample - loss: 1.7079e-04 - accuracy: 0.9920\n",
      "Epoch 47/90\n",
      "1000/1000 [==============================] - 0s 161us/sample - loss: 9.1489e-05 - accuracy: 0.9950\n",
      "Epoch 48/90\n",
      "1000/1000 [==============================] - 0s 159us/sample - loss: 1.0152e-04 - accuracy: 0.9960\n",
      "Epoch 49/90\n",
      "1000/1000 [==============================] - 0s 154us/sample - loss: 8.4486e-05 - accuracy: 0.9980\n",
      "Epoch 50/90\n",
      "1000/1000 [==============================] - 0s 162us/sample - loss: 9.8596e-05 - accuracy: 0.9950\n",
      "Epoch 51/90\n",
      "1000/1000 [==============================] - 0s 158us/sample - loss: 1.1089e-04 - accuracy: 0.9920\n",
      "Epoch 52/90\n",
      "1000/1000 [==============================] - 0s 159us/sample - loss: 1.1624e-04 - accuracy: 0.9910\n",
      "Epoch 53/90\n",
      "1000/1000 [==============================] - 0s 160us/sample - loss: 2.2790e-04 - accuracy: 0.9910\n",
      "Epoch 54/90\n",
      "1000/1000 [==============================] - 0s 153us/sample - loss: 2.2554e-04 - accuracy: 0.9870\n",
      "Epoch 55/90\n",
      "1000/1000 [==============================] - 0s 159us/sample - loss: 1.7847e-04 - accuracy: 0.9870\n",
      "Epoch 56/90\n",
      "1000/1000 [==============================] - 0s 154us/sample - loss: 1.6033e-04 - accuracy: 0.9870\n",
      "Epoch 57/90\n",
      "1000/1000 [==============================] - 0s 158us/sample - loss: 1.6649e-04 - accuracy: 0.9870\n",
      "Epoch 58/90\n",
      "1000/1000 [==============================] - 0s 156us/sample - loss: 1.0625e-04 - accuracy: 0.9880\n",
      "Epoch 59/90\n",
      "1000/1000 [==============================] - 0s 159us/sample - loss: 1.0939e-04 - accuracy: 0.9920\n",
      "Epoch 60/90\n",
      "1000/1000 [==============================] - 0s 157us/sample - loss: 1.2514e-04 - accuracy: 0.9960\n",
      "Epoch 61/90\n",
      "1000/1000 [==============================] - 0s 159us/sample - loss: 8.1665e-05 - accuracy: 0.9940\n",
      "Epoch 62/90\n",
      "1000/1000 [==============================] - 0s 155us/sample - loss: 1.2964e-04 - accuracy: 0.9900\n",
      "Epoch 63/90\n",
      "1000/1000 [==============================] - 0s 159us/sample - loss: 1.0683e-04 - accuracy: 0.9910\n",
      "Epoch 64/90\n",
      "1000/1000 [==============================] - 0s 161us/sample - loss: 1.7625e-04 - accuracy: 0.9940\n",
      "Epoch 65/90\n",
      "1000/1000 [==============================] - 0s 162us/sample - loss: 2.1628e-04 - accuracy: 0.9810\n",
      "Epoch 66/90\n",
      "1000/1000 [==============================] - 0s 186us/sample - loss: 1.4029e-04 - accuracy: 0.9880\n",
      "Epoch 67/90\n",
      "1000/1000 [==============================] - 0s 160us/sample - loss: 2.2666e-04 - accuracy: 0.9870\n",
      "Epoch 68/90\n",
      "1000/1000 [==============================] - 0s 158us/sample - loss: 1.8419e-04 - accuracy: 0.9850\n",
      "Epoch 69/90\n",
      "1000/1000 [==============================] - 0s 159us/sample - loss: 1.5079e-04 - accuracy: 0.9880\n",
      "Epoch 70/90\n",
      "1000/1000 [==============================] - 0s 158us/sample - loss: 1.0163e-04 - accuracy: 0.9950\n",
      "Epoch 71/90\n",
      "1000/1000 [==============================] - 0s 157us/sample - loss: 8.0255e-05 - accuracy: 0.9940\n",
      "Epoch 72/90\n",
      "1000/1000 [==============================] - 0s 162us/sample - loss: 8.7511e-05 - accuracy: 0.9970\n",
      "Epoch 73/90\n",
      "1000/1000 [==============================] - 0s 168us/sample - loss: 8.2575e-05 - accuracy: 0.9910\n",
      "Epoch 74/90\n",
      "1000/1000 [==============================] - 0s 170us/sample - loss: 5.2685e-05 - accuracy: 0.9920\n",
      "Epoch 75/90\n"
     ]
    },
    {
     "name": "stdout",
     "output_type": "stream",
     "text": [
      "1000/1000 [==============================] - 0s 166us/sample - loss: 4.6573e-05 - accuracy: 0.9950\n",
      "Epoch 76/90\n",
      "1000/1000 [==============================] - 0s 160us/sample - loss: 3.2542e-05 - accuracy: 0.9960\n",
      "Epoch 77/90\n",
      "1000/1000 [==============================] - 0s 160us/sample - loss: 2.7633e-05 - accuracy: 0.9970\n",
      "Epoch 78/90\n",
      "1000/1000 [==============================] - 0s 196us/sample - loss: 2.2155e-05 - accuracy: 0.9980\n",
      "Epoch 79/90\n",
      "1000/1000 [==============================] - 0s 179us/sample - loss: 2.5445e-05 - accuracy: 0.9930\n",
      "Epoch 80/90\n",
      "1000/1000 [==============================] - 0s 176us/sample - loss: 2.7449e-05 - accuracy: 0.9930\n",
      "Epoch 81/90\n",
      "1000/1000 [==============================] - 0s 180us/sample - loss: 2.8609e-05 - accuracy: 0.9980\n",
      "Epoch 82/90\n",
      "1000/1000 [==============================] - 0s 160us/sample - loss: 3.7583e-05 - accuracy: 0.9980\n",
      "Epoch 83/90\n",
      "1000/1000 [==============================] - 0s 190us/sample - loss: 6.8219e-05 - accuracy: 0.9890\n",
      "Epoch 84/90\n",
      "1000/1000 [==============================] - 0s 161us/sample - loss: 9.4328e-05 - accuracy: 0.9930\n",
      "Epoch 85/90\n",
      "1000/1000 [==============================] - 0s 163us/sample - loss: 6.7157e-05 - accuracy: 0.9910\n",
      "Epoch 86/90\n",
      "1000/1000 [==============================] - 0s 166us/sample - loss: 7.0330e-05 - accuracy: 0.9930\n",
      "Epoch 87/90\n",
      "1000/1000 [==============================] - 0s 170us/sample - loss: 6.7225e-05 - accuracy: 0.9950\n",
      "Epoch 88/90\n",
      "1000/1000 [==============================] - 0s 167us/sample - loss: 6.6705e-05 - accuracy: 0.9970\n",
      "Epoch 89/90\n",
      "1000/1000 [==============================] - 0s 186us/sample - loss: 8.3327e-05 - accuracy: 0.9900\n",
      "Epoch 90/90\n",
      "1000/1000 [==============================] - 0s 166us/sample - loss: 8.3742e-05 - accuracy: 0.9950\n",
      "Loss: 8.374246931634844e-05\n",
      "300/1 [========================================================================================================================================================================================================================================================================================================================================================================================================================================================================================================================================================================================================================================================================================================================================================================================================================================================================================================================================================================================================================================================================================================================================================================================================================================================================================================================================================================================================================================================================================================================================================================================================================================================================================================================================================================================================================================================================================================================================================================================================================================================================================================================================================================================================================================================================================================================================================================================================================================================================================================================================================================================================================================================================================================================================================================================================================================================================================================================================================================================================================================================================================================================================================================================================================================================================================================================================================================================================================================================================================================================================================================================================================================================================================================================================================================================================================================================================================================================================================================================================================================================================================================================================================================================================================================================================================================================================================================================================================================================================================================================================================================================================================================================================================================================================================================================================================================================================================================================================================================================================================================================================================================================================================================================================================================================================================================================================================================================================================================================================================================================================================================================================================================================================================================================================================================================================================================================================================================================================================================================================================================================================================================================================================================================================================================================================================================================================================================================================================================================================================================================================================================================================================================================================================================================================================================================================================================================================================================================================================================================================================================================================================================================================================================================================================================================================================================================================================================================================================================================================================================================================================================================================================================================================================================================================================================================================================================================================================================================================================================================================================================================================================================================================================================================================================================================================================================================================================================================================================================================================================================================================================================================================================================================================================================================================================================================================================================================================================================================================================================================================================================================================================================================================================================================================================================================================================================================================================================] - 0s 1ms/sample - loss: 3.4315e-04 - accuracy: 0.9733\n"
     ]
    },
    {
     "name": "stdout",
     "output_type": "stream",
     "text": [
      "0.000643854693286509 0.97333336\n",
      "[1.29612986e-03 1.25508191e-03 4.75092150e-04 3.10945915e-04\n",
      " 6.44152931e-05 1.09443234e-04 2.93997686e-03 8.37424693e-05]\n",
      "[0.00082653 0.00149642 0.00045521 0.0004392  0.00120155 0.00050394\n",
      " 0.0023872  0.00064385]\n"
     ]
    }
   ],
   "source": [
    "val = 512\n",
    "index = 7\n",
    "print(val) \n",
    "#load input data for gaussian\n",
    "training = data.create_training_set(1000, val) #outputs an array of x_vals, mean values, and sigma values respectively\n",
    "x_train = training[0] \n",
    "y_train = training[1]  \n",
    "z_train = training[2] \n",
    "y_train = np.vstack((y_train, z_train)) #compile training mean and standard deviation into single data structure\n",
    "y_train = y_train.T #first column as mean, second column as sd\n",
    "\n",
    "testing = data.create_training_set(300, val)\n",
    "x_test = testing[0] \n",
    "y_test = testing[1] \n",
    "z_test = testing[2] \n",
    "y_test = np.vstack((y_test, z_test)) #compile test mean and standard deviation into single data structure \n",
    "y_test = y_test.T\n",
    "\n",
    "\n",
    "#set layers\n",
    "model = tf.keras.models.Sequential() #feed forward\n",
    "#input layer: 21 different x values to represent the gaussian function\n",
    "model.add(tf.keras.layers.Input(val,)) \n",
    "#hidden layers (2): \n",
    "model.add(tf.keras.layers.Dense(125, activation = tf.nn.relu))\n",
    "model.add(tf.keras.layers.Dense(125, activation = tf.nn.relu))\n",
    "model.add(tf.keras.layers.Dense(125, activation = tf.nn.relu))\n",
    "model.add(tf.keras.layers.Dense(125, activation = tf.nn.relu))\n",
    "model.add(tf.keras.layers.Dense(125, activation = tf.nn.relu))\n",
    "#output layer:\n",
    "model.add(tf.keras.layers.Dense(2,))\n",
    "\n",
    "\n",
    "#optimize\n",
    "model.compile(optimizer = 'adam', \n",
    "          loss = 'mean_squared_error',\n",
    "          metrics = ['accuracy']) \n",
    "history = model.fit(x_train, y_train, epochs = 90) #90 epochs minimizes the difference between test and training and testing cost\n",
    "loss_arr = history.history['loss'] \n",
    "loss_val = loss_arr[len(loss_arr)-1]\n",
    "print(\"Loss: \" + str(loss_val))\n",
    "training_vals[index] = loss_val\n",
    "\n",
    "#evaluate the test set and find test loss and accuracy\n",
    "results = model.evaluate(x = x_test, y = y_test)\n",
    "val_loss = results[0] #loss between model and actual\n",
    "val_acc = results[1] #accuracy of the model based on actual\n",
    "testing_vals[index] = results[0] \n",
    "print(val_loss, val_acc)\n",
    "\n",
    "print(training_vals)\n",
    "print(testing_vals)\n",
    "\n",
    "    "
   ]
  },
  {
   "cell_type": "code",
   "execution_count": 26,
   "id": "ff7720de",
   "metadata": {},
   "outputs": [
    {
     "name": "stdout",
     "output_type": "stream",
     "text": [
      "[1.29612986e-03 1.25508191e-03 4.75092150e-04 3.10945915e-04\n",
      " 6.44152931e-05 1.09443234e-04 2.93997686e-03 8.37424693e-05]\n",
      "[0.00082653 0.00149642 0.00045521 0.0004392  0.00120155 0.00050394\n",
      " 0.0023872  0.00064385]\n"
     ]
    }
   ],
   "source": [
    "print(training_vals)\n",
    "print(testing_vals)"
   ]
  },
  {
   "cell_type": "code",
   "execution_count": 27,
   "id": "75bc170d",
   "metadata": {},
   "outputs": [],
   "source": [
    "copy1 = training_vals\n",
    "copy2 = testing_vals"
   ]
  },
  {
   "cell_type": "code",
   "execution_count": null,
   "id": "9ef3147f",
   "metadata": {},
   "outputs": [],
   "source": [
    "predictions = predictions.T\n",
    "y_test = y_test.T"
   ]
  },
  {
   "cell_type": "code",
   "execution_count": 33,
   "id": "ef795310",
   "metadata": {},
   "outputs": [
    {
     "data": {
      "image/png": "[encoded data removed]",
      "text/plain": [
       "<Figure size 432x288 with 1 Axes>"
      ]
     },
     "metadata": {
      "needs_background": "light"
     },
     "output_type": "display_data"
    }
   ],
   "source": [
    "plt.plot(num_x_vals, training_vals, label = \"Training\", linestyle = '-')\n",
    "plt.plot(num_x_vals, testing_vals, label = \"Testing\", linestyle = '--') \n",
    "plt.ylabel('Cost')\n",
    "plt.xlabel('Number of Discrete X Values')\n",
    "#plt.xscale('log') \n",
    "plt.show() "
   ]
  },
  {
   "cell_type": "code",
   "execution_count": 39,
   "id": "d6b11648",
   "metadata": {
    "scrolled": true
   },
   "outputs": [
    {
     "name": "stdout",
     "output_type": "stream",
     "text": [
      "WARNING:tensorflow:From /Users/elliesuit/opt/anaconda3/envs/tensorflow/lib/python3.7/site-packages/tensorflow_core/python/ops/resource_variable_ops.py:1781: calling BaseResourceVariable.__init__ (from tensorflow.python.ops.resource_variable_ops) with constraint is deprecated and will be removed in a future version.\n",
      "Instructions for updating:\n",
      "If using Keras pass *_constraint arguments to layers.\n",
      "INFO:tensorflow:Assets written to: mean_and_sd.model/assets\n"
     ]
    }
   ],
   "source": [
    "#saves the model data\n",
    "model.save('mean_and_sd.model')\n",
    "new_model = tf.keras.models.load_model('mean_and_sd.model')\n"
   ]
  },
  {
   "cell_type": "code",
   "execution_count": 40,
   "id": "041e1c6a",
   "metadata": {},
   "outputs": [
    {
     "name": "stdout",
     "output_type": "stream",
     "text": [
      "X Input Values: [-3.15450484e-25 -6.87050751e-24 -1.37604819e-22 -2.53434461e-21\n",
      " -4.29224890e-20 -6.68484482e-19 -9.57381354e-18 -1.26085691e-16\n",
      " -1.52698174e-15 -1.70054875e-14 -1.74153229e-13 -1.64006545e-12\n",
      " -1.42029328e-11 -1.13105074e-10 -8.28272694e-10 -5.57765700e-09\n",
      " -3.45396129e-08 -1.96684589e-07 -1.02993638e-06 -4.95949745e-06\n",
      " -2.19610017e-05 -8.94239442e-05 -3.34844138e-04 -1.15297206e-03\n",
      " -3.65074978e-03 -1.06299826e-02 -2.84623167e-02 -7.00801688e-02\n",
      " -1.58674535e-01 -3.30374512e-01 -6.32547343e-01 -1.11369621e+00\n",
      " -1.80313253e+00 -2.68457634e+00 -3.67545466e+00 -4.62736317e+00\n",
      " -5.35726715e+00 -5.70348397e+00 -5.58372922e+00 -5.02684710e+00\n",
      " -4.16154127e+00 -3.16810770e+00 -2.21785359e+00 -1.42775277e+00\n",
      " -8.45201679e-01 -4.60102819e-01 -2.30322646e-01 -1.06024343e-01\n",
      " -4.48809190e-02 -1.74704904e-02 -6.25367998e-03 -2.05851205e-03\n",
      " -6.23100897e-04 -1.73440510e-04 -4.43945758e-05 -1.04495234e-05\n",
      " -2.26177946e-06 -4.50185220e-07 -8.23985202e-08 -1.38686694e-08\n",
      " -2.14653206e-09 -3.05511222e-10 -3.99856498e-11 -4.81247351e-12\n",
      " -5.32622794e-13 -5.42073713e-14 -5.07322530e-15 -4.36613494e-16\n",
      " -3.45539230e-17 -2.51469183e-18 -1.68290416e-19 -1.03566953e-20\n",
      " -5.86097972e-22 -3.05004636e-23 -1.45958659e-24 -6.42303800e-26\n",
      " -2.59919176e-27 -9.67215736e-29 -3.30975303e-30 -1.04148981e-31\n",
      " -3.01371145e-33 -8.01928248e-35 -1.96226003e-36 -4.41534666e-38\n",
      " -9.13608769e-40 -1.73837278e-41 -3.04167474e-43 -4.89406611e-45\n",
      " -7.24125923e-47 -9.85247998e-49 -1.23271940e-50 -1.41830653e-52\n",
      " -1.50059390e-54 -1.45996839e-56 -1.30620377e-58 -1.07464647e-60\n",
      " -8.13031740e-63 -5.65635409e-65 -3.61870249e-67  0.00000000e+00]\n",
      "Actual Mean and SD Values: [-0.24753726 -0.06976859]\n",
      "Predicted Mean and SD Values: [-0.24492235 -0.07210155]\n"
     ]
    }
   ],
   "source": [
    "#makes predictions for all elements in x_test array  \n",
    "predictions = new_model.predict(x_test) #predicts all means and standard deviations of the x_test dataset\n",
    "print(\"X Input Values: \" + str(x_test[234]))\n",
    "print(\"Actual Mean and SD Values: \" +  str(y_test[234]))  \n",
    "print(\"Predicted Mean and SD Values: \" + str(predictions[234])) "
   ]
  },
  {
   "cell_type": "code",
   "execution_count": 41,
   "id": "746e3a2e",
   "metadata": {},
   "outputs": [
    {
     "data": {
      "image/png": "[encoded data removed]",
      "text/plain": [
       "<Figure size 432x288 with 1 Axes>"
      ]
     },
     "metadata": {
      "needs_background": "light"
     },
     "output_type": "display_data"
    }
   ],
   "source": [
    "plt.scatter(predictions[0],y_test[0]) #mean\n",
    "plt.title('Predicted Mean vs. Actual Mean')\n",
    "plt.xlabel('Actual Mean')\n",
    "plt.ylabel('Predicted Mean')\n",
    "plt.show() "
   ]
  },
  {
   "cell_type": "code",
   "execution_count": 42,
   "id": "7a2f3de0",
   "metadata": {},
   "outputs": [
    {
     "data": {
      "image/png": "[encoded data removed]",
      "text/plain": [
       "<Figure size 432x288 with 1 Axes>"
      ]
     },
     "metadata": {
      "needs_background": "light"
     },
     "output_type": "display_data"
    }
   ],
   "source": [
    "plt.scatter(predictions[1],y_test[1]) #SD\n",
    "plt.title('Predicted SD vs. Actual SD')\n",
    "plt.xlabel('Actual SD')\n",
    "plt.ylabel('Predicted SD')\n",
    "plt.show()"
   ]
  },
  {
   "cell_type": "code",
   "execution_count": 43,
   "id": "e11ef76d",
   "metadata": {
    "scrolled": true
   },
   "outputs": [
    {
     "data": {
      "image/png": "[encoded data removed]",
      "text/plain": [
       "<Figure size 432x288 with 1 Axes>"
      ]
     },
     "metadata": {
      "needs_background": "light"
     },
     "output_type": "display_data"
    },
    {
     "data": {
      "image/png": "[encoded data removed]",
      "text/plain": [
       "<Figure size 432x288 with 1 Axes>"
      ]
     },
     "metadata": {
      "needs_background": "light"
     },
     "output_type": "display_data"
    }
   ],
   "source": [
    "#percent error\n",
    "plt.scatter(range(len(x_test)), (predictions[0]-y_test[0])/(y_test[0]))\n",
    "plt.title('Mean Percent Error')\n",
    "plt.xlabel('Index')\n",
    "plt.ylabel('Percent Error')\n",
    "plt.show()\n",
    "plt.scatter(range(len(x_test)), (predictions[1]-y_test[1])/(y_test[1]))\n",
    "plt.title('SD Percent Error') \n",
    "plt.xlabel('Index')\n",
    "plt.ylabel('Percent Error') \n",
    "plt.show()"
   ]
  },
  {
   "cell_type": "code",
   "execution_count": 45,
   "id": "7e83b518",
   "metadata": {},
   "outputs": [
    {
     "data": {
      "image/png": "[encoded data removed]",
      "text/plain": [
       "<Figure size 432x288 with 1 Axes>"
      ]
     },
     "metadata": {
      "needs_background": "light"
     },
     "output_type": "display_data"
    },
    {
     "data": {
      "image/png": "[encoded data removed]",
      "text/plain": [
       "<Figure size 432x288 with 1 Axes>"
      ]
     },
     "metadata": {
      "needs_background": "light"
     },
     "output_type": "display_data"
    }
   ],
   "source": [
    "plt.hist((predictions[0]-y_test[0])/y_test[0])\n",
    "plt.yscale('log')\n",
    "plt.title('Distribution of Mean Errors')\n",
    "plt.ylabel('Number of Occurences')\n",
    "plt.xlabel('Percent Error')\n",
    "plt.show()\n",
    "plt.hist((predictions[1]-y_test[1])/y_test[1])\n",
    "plt.yscale('log') \n",
    "plt.title('Distribution of SD Errors')\n",
    "plt.ylabel('Number of Occurences') \n",
    "plt.xlabel('Percent Error') \n",
    "plt.show() "
   ]
  },
  {
   "cell_type": "code",
   "execution_count": null,
   "id": "782e4334",
   "metadata": {},
   "outputs": [],
   "source": []
  }
 ],
 "metadata": {
  "kernelspec": {
   "display_name": "Python 3",
   "language": "python",
   "name": "python3"
  },
  "language_info": {
   "codemirror_mode": {
    "name": "ipython",
    "version": 3
   },
   "file_extension": ".py",
   "mimetype": "text/x-python",
   "name": "python",
   "nbconvert_exporter": "python",
   "pygments_lexer": "ipython3",
   "version": "3.7.10"
  }
 },
 "nbformat": 4,
 "nbformat_minor": 5
}
